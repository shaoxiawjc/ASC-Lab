{
 "cells": [
  {
   "cell_type": "code",
   "id": "initial_id",
   "metadata": {
    "collapsed": true,
    "ExecuteTime": {
     "end_time": "2024-11-13T10:23:53.222989Z",
     "start_time": "2024-11-13T10:23:53.220227Z"
    }
   },
   "source": [
    "from matplotlib import pyplot as plt\n",
    "\n",
    "import miniflow.op as op    \n",
    "import miniflow.executor as executor\n",
    "import numpy as np\n",
    "from miniflow.node import Node\n",
    "import importlib\n",
    "from typing import List"
   ],
   "outputs": [],
   "execution_count": 680
  },
  {
   "metadata": {
    "ExecuteTime": {
     "end_time": "2024-11-13T10:23:53.248103Z",
     "start_time": "2024-11-13T10:23:53.241990Z"
    }
   },
   "cell_type": "code",
   "source": [
    "importlib.reload(op)\n",
    "importlib.reload(executor)"
   ],
   "id": "40a5755cd975faf8",
   "outputs": [
    {
     "data": {
      "text/plain": [
       "<module 'miniflow.executor' from 'E:\\\\ASC\\\\assignment02\\\\miniflow\\\\miniflow\\\\executor.py'>"
      ]
     },
     "execution_count": 681,
     "metadata": {},
     "output_type": "execute_result"
    }
   ],
   "execution_count": 681
  },
  {
   "metadata": {
    "ExecuteTime": {
     "end_time": "2024-11-13T10:23:53.272410Z",
     "start_time": "2024-11-13T10:23:53.270104Z"
    }
   },
   "cell_type": "code",
   "source": "",
   "id": "a63b509c9e4218e2",
   "outputs": [],
   "execution_count": 681
  },
  {
   "metadata": {
    "ExecuteTime": {
     "end_time": "2024-11-13T10:23:53.277481Z",
     "start_time": "2024-11-13T10:23:53.273412Z"
    }
   },
   "cell_type": "code",
   "source": [
    "class MyLinear:\n",
    "    def __init__(self, input_size, output_size, layer_id,input_node=None):\n",
    "        self.input_size = input_size\n",
    "        self.output_size = output_size\n",
    "        # W: input * output\n",
    "        \n",
    "        if input_node is None:\n",
    "            self.input_node = op.Variable(\"X\")\n",
    "        else:\n",
    "            self.input_node = input_node\n",
    "        self.W = op.Variable(f\"W_{layer_id}\")\n",
    "        self.W_val = np.ones((self.input_size, self.output_size))\n",
    "        self.B = op.Variable(f\"B_{layer_id}\")\n",
    "        self.B_val = 0.0\n",
    "        \n",
    "        \n",
    "        self.rst = op.add_op(op.matmul_op(self.input_node, self.W), self.B)\n",
    "        \n",
    "        self.forward_executor = executor.Executor([self.rst])\n",
    "        # -2 W -3 B\n",
    "        # 标签节点\n",
    "        #  上一次计算的值\n",
    "        self.last_rst_val = 0.0\n",
    "        \n",
    "    \n",
    "    def __call__(self, *args, **kwargs):\n",
    "        return self.forward(*args, **kwargs)\n",
    "    \n",
    "    def forward(self, input):\n",
    "        # input_size: batch * d\n",
    "        feed_dict = {self.input_node: input, self.W: self.W_val, self.B: self.B_val}\n",
    "        run_dict = self.forward_executor.run(feed_dict)\n",
    "        self.last_rst_val = run_dict[-1]\n",
    "        return run_dict[-1]"
   ],
   "id": "6cddbf0bb33c4734",
   "outputs": [],
   "execution_count": 682
  },
  {
   "metadata": {
    "ExecuteTime": {
     "end_time": "2024-11-13T10:23:53.283247Z",
     "start_time": "2024-11-13T10:23:53.278484Z"
    }
   },
   "cell_type": "code",
   "source": [
    "class Relu(op.Op):\n",
    "    def __call__(self, node):\n",
    "        new_node = op.Op.__call__(self)\n",
    "        new_node.name = f\"relu_{node.name}\"\n",
    "        new_node.inputs = [node]\n",
    "        return new_node\n",
    "\n",
    "    def compute(self, node, input_vals):\n",
    "        return np.maximum(input_vals[0], 0)\n",
    "\n",
    "    def gradient(self, node, output_grad) -> List[Node]:\n",
    "        # relu dx = dy dy > 0\n",
    "        # dx = 0 dy <= 0\n",
    "        return [relu_op(output_grad)]\n",
    "    \n",
    "relu_op = Relu()\n",
    "\n",
    "relu_op.compute(None, [np.array([1,1,1,1,0,0,1,-1])])"
   ],
   "id": "7cbd6c746efdd1e6",
   "outputs": [
    {
     "data": {
      "text/plain": [
       "array([1, 1, 1, 1, 0, 0, 1, 0])"
      ]
     },
     "execution_count": 683,
     "metadata": {},
     "output_type": "execute_result"
    }
   ],
   "execution_count": 683
  },
  {
   "metadata": {
    "ExecuteTime": {
     "end_time": "2024-11-13T10:23:53.285994Z",
     "start_time": "2024-11-13T10:23:53.284249Z"
    }
   },
   "cell_type": "code",
   "source": "",
   "id": "4e7fb5cbbac32d5c",
   "outputs": [],
   "execution_count": 683
  },
  {
   "metadata": {
    "ExecuteTime": {
     "end_time": "2024-11-13T10:23:53.292461Z",
     "start_time": "2024-11-13T10:23:53.285994Z"
    }
   },
   "cell_type": "code",
   "source": [
    "class MyMLP:\n",
    "    def __init__(self, input_size, hidden_size, output_size):\n",
    "        self.L1 = MyLinear(input_size, hidden_size,1)\n",
    "        self.rl_node = relu_op(self.L1.rst)\n",
    "        self.L2 = MyLinear(hidden_size, output_size, 2, input_node=self.rl_node)\n",
    "        \n",
    "        self.minus_node = None\n",
    "        self.loss_node = None\n",
    "        self.loss_executor = None\n",
    "        # 反向传播的梯度节点\n",
    "        self.grad_node_list = None\n",
    "        # 初始化反向传播执行器，初始化计算图\n",
    "        self.backward_executor = None\n",
    "        \n",
    "        self.need_grad_list = [self.L1.W, self.L1.B, self.L2.W, self.L2.B]\n",
    "        self.need_grad_val_list = [self.L1.W_val, self.L1.B_val, self.L2.W_val, self.L2.B_val]\n",
    "        \n",
    "        \n",
    "        self.last_rst_val_l2 = 0.0\n",
    "        self.last_rst_val_l1 = 0.0\n",
    "        self.last_input = 0.0\n",
    "        self.last_loss_val = 0.0\n",
    "        self.last_label = 0.0\n",
    "    \n",
    "    def __call__(self, *args, **kwargs):\n",
    "        return self.forward(*args, **kwargs)    \n",
    "    \n",
    "    def forward(self, input):\n",
    "        self.last_input = input\n",
    "        \n",
    "        feed_dict = {self.L1.input_node: input, self.L1.W: self.L1.W_val, self.L1.B: self.L1.B_val,\n",
    "                    self.L2.W: self.L2.W_val, self.L2.B: self.L2.B_val}\n",
    "        \n",
    "        l2_output_val = self.L2.forward_executor.run(feed_dict)[-1]\n",
    "        self.last_rst_val_l2 = l2_output_val\n",
    "        return l2_output_val\n",
    "    \n",
    "    def compute_loss_and_backward(self, label, lr):\n",
    "        self.minus_node = op.add_const_op(self.L2.rst, -label)\n",
    "        if self.loss_node is None:\n",
    "            self.loss_node = op.matmul_op(self.minus_node, self.minus_node, trans_A=True)\n",
    "        if self.loss_executor is None:\n",
    "            self.loss_executor = executor.Executor([self.loss_node])\n",
    "        # 反向传播的梯度节点\n",
    "        \n",
    "        \n",
    "        \n",
    "        self.backward_executor = executor.Executor(self.need_grad_list)\n",
    "        \n",
    "        self.grad_node_list = executor.gradient(self.loss_node,\n",
    "                                                   self.need_grad_list)\n",
    "        # 初始化反向传播执行器，初始化计算图\n",
    "        self.backward_executor = executor.Executor(self.grad_node_list)\n",
    "        \n",
    "        \n",
    "        feed_dict={self.L1.input_node: self.last_input, self.L1.W: self.L1.W_val, self.L1.B: self.L1.B_val,\n",
    "                    self.L2.W: self.L2.W_val, self.L2.B: self.L2.B_val}\n",
    "        self.last_loss_val = self.loss_executor.run(feed_dict)[-1]\n",
    "        # print(f\"loss: {self.last_loss_val}\")\n",
    "        grad_val_list = self.backward_executor.run(feed_dict)\n",
    "        for i in range(len(self.need_grad_list)):\n",
    "            self.need_grad_val_list[i] -= (lr * grad_val_list[i])\n",
    "        return self.last_loss_val\n",
    "            \n",
    "\n",
    "        \n",
    "        "
   ],
   "id": "627cdbc74a541d49",
   "outputs": [],
   "execution_count": 684
  },
  {
   "metadata": {
    "ExecuteTime": {
     "end_time": "2024-11-13T10:23:53.294652Z",
     "start_time": "2024-11-13T10:23:53.292461Z"
    }
   },
   "cell_type": "code",
   "source": [
    "\n",
    "\n"
   ],
   "id": "cc4cedfbd2e483f7",
   "outputs": [],
   "execution_count": 684
  },
  {
   "metadata": {},
   "cell_type": "markdown",
   "source": "测试正向传播",
   "id": "a8509b8b4f2f610b"
  },
  {
   "metadata": {
    "ExecuteTime": {
     "end_time": "2024-11-13T10:23:53.298375Z",
     "start_time": "2024-11-13T10:23:53.294652Z"
    }
   },
   "cell_type": "code",
   "source": [
    "batch_size = 8\n",
    "input_size = 3\n",
    "hidden_size = 16\n",
    "output_size = 1\n",
    "\n",
    "mlp = MyMLP(input_size, hidden_size, output_size)\n",
    "X = np.random.rand(batch_size, input_size)\n",
    "mlp.forward(X)"
   ],
   "id": "8671906272a21885",
   "outputs": [
    {
     "data": {
      "text/plain": [
       "array([[37.93954861],\n",
       "       [29.78724362],\n",
       "       [35.82946233],\n",
       "       [21.18634719],\n",
       "       [23.56892347],\n",
       "       [22.05488026],\n",
       "       [12.1501469 ],\n",
       "       [25.65964492]])"
      ]
     },
     "execution_count": 685,
     "metadata": {},
     "output_type": "execute_result"
    }
   ],
   "execution_count": 685
  },
  {
   "metadata": {
    "ExecuteTime": {
     "end_time": "2024-11-13T10:23:53.308505Z",
     "start_time": "2024-11-13T10:23:53.305374Z"
    }
   },
   "cell_type": "code",
   "source": [
    "weights = np.array([2.5, -3.0, 1.5])\n",
    "bias = 0.8\n",
    "Y = np.dot(X, weights) + bias + np.random.normal(batch_size, output_size)\n",
    "Y = Y.reshape(-1, 1)"
   ],
   "id": "366c34e926cb39aa",
   "outputs": [],
   "execution_count": 686
  },
  {
   "metadata": {},
   "cell_type": "markdown",
   "source": "测试反向传播",
   "id": "e38ea2cdd2288a07"
  },
  {
   "metadata": {
    "ExecuteTime": {
     "end_time": "2024-11-13T10:23:53.330667Z",
     "start_time": "2024-11-13T10:23:53.327681Z"
    }
   },
   "cell_type": "code",
   "source": [
    "print(X.shape)\n",
    "print(Y.shape)"
   ],
   "id": "efcd52935d94d6f2",
   "outputs": [
    {
     "name": "stdout",
     "output_type": "stream",
     "text": [
      "(8, 3)\n",
      "(8, 1)\n"
     ]
    }
   ],
   "execution_count": 687
  },
  {
   "metadata": {
    "ExecuteTime": {
     "end_time": "2024-11-13T10:23:53.343540Z",
     "start_time": "2024-11-13T10:23:53.341670Z"
    }
   },
   "cell_type": "code",
   "source": "",
   "id": "71c86a243fe2b834",
   "outputs": [],
   "execution_count": 687
  },
  {
   "metadata": {
    "ExecuteTime": {
     "end_time": "2024-11-13T10:23:53.345725Z",
     "start_time": "2024-11-13T10:23:53.343540Z"
    }
   },
   "cell_type": "code",
   "source": "",
   "id": "a532e28f78154136",
   "outputs": [],
   "execution_count": 687
  },
  {
   "metadata": {
    "ExecuteTime": {
     "end_time": "2024-11-13T10:23:53.407101Z",
     "start_time": "2024-11-13T10:23:53.345725Z"
    }
   },
   "cell_type": "code",
   "source": [
    "loss_list = []\n",
    "for i in range(10):\n",
    "    mlp.forward(X)\n",
    "    loss_val = mlp.compute_loss_and_backward(Y, 0.001)\n",
    "    loss_list.append(loss_val.item())\n",
    "    \n",
    "plt.plot(loss_list)"
   ],
   "id": "3b3a9b7784feac00",
   "outputs": [
    {
     "data": {
      "text/plain": [
       "[<matplotlib.lines.Line2D at 0x1cb638c9f10>]"
      ]
     },
     "execution_count": 688,
     "metadata": {},
     "output_type": "execute_result"
    },
    {
     "data": {
      "text/plain": [
       "<Figure size 640x480 with 1 Axes>"
      ],
      "image/png": "[encoded data removed]"
     },
     "metadata": {},
     "output_type": "display_data"
    }
   ],
   "execution_count": 688
  },
  {
   "metadata": {
    "ExecuteTime": {
     "end_time": "2024-11-13T10:23:53.410840Z",
     "start_time": "2024-11-13T10:23:53.407101Z"
    }
   },
   "cell_type": "code",
   "source": "print(mlp.forward(X))",
   "id": "f1e9ebc15411a52f",
   "outputs": [
    {
     "name": "stdout",
     "output_type": "stream",
     "text": [
      "[[12.07729124]\n",
      " [ 9.35687707]\n",
      " [11.46609416]\n",
      " [ 6.58822346]\n",
      " [ 7.70781536]\n",
      " [ 6.99451435]\n",
      " [ 3.81650642]\n",
      " [ 8.19948346]]\n"
     ]
    }
   ],
   "execution_count": 689
  },
  {
   "metadata": {
    "ExecuteTime": {
     "end_time": "2024-11-13T10:23:53.413201Z",
     "start_time": "2024-11-13T10:23:53.410840Z"
    }
   },
   "cell_type": "code",
   "source": "",
   "id": "bad20ae585671f9c",
   "outputs": [],
   "execution_count": 689
  },
  {
   "metadata": {
    "ExecuteTime": {
     "end_time": "2024-11-13T10:23:53.415362Z",
     "start_time": "2024-11-13T10:23:53.413201Z"
    }
   },
   "cell_type": "code",
   "source": "",
   "id": "4e4caccce86ecec",
   "outputs": [],
   "execution_count": 689
  }
 ],
 "metadata": {
  "kernelspec": {
   "display_name": "Python 3",
   "language": "python",
   "name": "python3"
  },
  "language_info": {
   "codemirror_mode": {
    "name": "ipython",
    "version": 2
   },
   "file_extension": ".py",
   "mimetype": "text/x-python",
   "name": "python",
   "nbconvert_exporter": "python",
   "pygments_lexer": "ipython2",
   "version": "2.7.6"
  }
 },
 "nbformat": 4,
 "nbformat_minor": 5
}
