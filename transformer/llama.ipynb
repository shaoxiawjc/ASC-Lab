{
 "cells": [
  {
   "cell_type": "code",
   "execution_count": null,
   "id": "initial_id",
   "metadata": {
    "collapsed": true
   },
   "outputs": [],
   "source": [
    ""
   ]
  },
  {
   "metadata": {},
   "cell_type": "markdown",
   "source": [
    "# RoPE 位置编码\n",
    "\n",
    "从绝对位置编码到相对位置编码\n",
    "\n",
    "即对位置之间的相对距离进行编码\n",
    "\n",
    "* ROPE\n",
    "    * 旋转位置编码， 直接嵌入到注意力的计算之中\n",
    "    * $ R_{\\theta, m}^d $, 为位置m对应的旋转矩阵，并且是非可学习的，即全局固定的矩阵\n",
    "\n",
    "首先什么是旋转矩阵\n",
    "$$\n",
    "R( \\theta ) =\n",
    "\n",
    "\\begin{bmatrix}\n",
    "\\cos\\theta & -\\sin\\theta \\\\\n",
    "\\sin\\theta & \\cos\\theta\n",
    "\\end{bmatrix}\n",
    "$$\n",
    "\n",
    "\n",
    "如果是对于位置m，有\n",
    "$$\n",
    "R_m =\n",
    "\\begin{bmatrix}\n",
    "\\cos m\\theta & -\\sin m\\theta \\\\\n",
    "\\sin m\\theta & \\cos m\\theta\n",
    "\\end{bmatrix}\n",
    "$$\n",
    "\n",
    "旋转矩阵有一些良好的性质，比如\n",
    "\n",
    "$$\n",
    "R(\\theta_1) R(\\theta_2) =\n",
    "\\begin{bmatrix}\n",
    "\\cos\\theta_1 & -\\sin\\theta_1 \\\\\n",
    "\\sin\\theta_1 & \\cos\\theta_1\n",
    "\\end{bmatrix}\n",
    "\\begin{bmatrix}\n",
    "\\cos\\theta_2 & -\\sin\\theta_2 \\\\\n",
    "\\sin\\theta_2 & \\cos\\theta_2\n",
    "\\end{bmatrix}\n",
    "=\n",
    "\\begin{bmatrix}\n",
    "\\cos(\\theta_1 + \\theta_2) & -\\sin(\\theta_1 + \\theta_2) \\\\\n",
    "\\sin(\\theta_1 + \\theta_2) & \\cos(\\theta_1 + \\theta_2)\n",
    "\\end{bmatrix}\n",
    "$$\n",
    "$$\n",
    "R(\\theta)^T = \n",
    "\\begin{bmatrix}\n",
    "\\cos\\theta & \\sin\\theta \\\\\n",
    "-\\sin\\theta & \\cos\\theta\n",
    "\\end{bmatrix}\n",
    "\n",
    "$$\n",
    "\n",
    "则有CIS编码\n",
    "\n",
    "$$\n",
    "f(q, m)^T f(k, n) = (R_m q)^T (R_n k)\\\\\n",
    "= q^T \\big(R_m^T R_n\\big) k \\\\\n",
    "= q^T R_{n-m} k \\\\\n",
    "$$\n"
   ],
   "id": "52a3322db62ed9f4"
  },
  {
   "metadata": {},
   "cell_type": "code",
   "outputs": [],
   "execution_count": null,
   "source": "",
   "id": "b9438a5eea83c7ce"
  },
  {
   "metadata": {},
   "cell_type": "code",
   "outputs": [],
   "execution_count": null,
   "source": "",
   "id": "f049b9ee6ce87d7"
  },
  {
   "metadata": {},
   "cell_type": "code",
   "outputs": [],
   "execution_count": null,
   "source": "",
   "id": "ef135c32514c6992"
  },
  {
   "metadata": {},
   "cell_type": "code",
   "outputs": [],
   "execution_count": null,
   "source": "",
   "id": "2fa071d161e328ba"
  }
 ],
 "metadata": {
  "kernelspec": {
   "display_name": "Python 3",
   "language": "python",
   "name": "python3"
  },
  "language_info": {
   "codemirror_mode": {
    "name": "ipython",
    "version": 2
   },
   "file_extension": ".py",
   "mimetype": "text/x-python",
   "name": "python",
   "nbconvert_exporter": "python",
   "pygments_lexer": "ipython2",
   "version": "2.7.6"
  }
 },
 "nbformat": 4,
 "nbformat_minor": 5
}
