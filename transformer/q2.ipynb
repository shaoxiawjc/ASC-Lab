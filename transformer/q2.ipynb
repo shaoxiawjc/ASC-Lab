{
 "cells": [
  {
   "cell_type": "code",
   "id": "initial_id",
   "metadata": {
    "collapsed": true,
    "ExecuteTime": {
     "end_time": "2024-11-08T09:40:13.221859Z",
     "start_time": "2024-11-08T09:40:12.933792Z"
    }
   },
   "source": [
    "import sentencepiece as spm\n",
    "import jieba\n",
    "import jieba.posseg as pseg"
   ],
   "outputs": [],
   "execution_count": 1
  },
  {
   "metadata": {
    "ExecuteTime": {
     "end_time": "2024-11-08T09:40:13.225167Z",
     "start_time": "2024-11-08T09:40:13.222862Z"
    }
   },
   "cell_type": "code",
   "source": "xyj_file_name = \"data/xyj.txt\"",
   "id": "ec2c52bc023c7d6b",
   "outputs": [],
   "execution_count": 2
  },
  {
   "metadata": {
    "ExecuteTime": {
     "end_time": "2024-11-08T09:40:13.230102Z",
     "start_time": "2024-11-08T09:40:13.225167Z"
    }
   },
   "cell_type": "code",
   "source": [
    "def load_file(file_name):\n",
    "    corpus = []\n",
    "    with open(file_name, 'r', encoding='gbk', errors='ignore') as file:\n",
    "        for line in file:\n",
    "            corpus.append(line.strip())\n",
    "    return corpus"
   ],
   "id": "81455cd32c52bc90",
   "outputs": [],
   "execution_count": 3
  },
  {
   "metadata": {
    "ExecuteTime": {
     "end_time": "2024-11-08T09:40:13.242906Z",
     "start_time": "2024-11-08T09:40:13.231101Z"
    }
   },
   "cell_type": "code",
   "source": "xyj_data = load_file(xyj_file_name)",
   "id": "727851a37b6c7100",
   "outputs": [],
   "execution_count": 4
  },
  {
   "metadata": {
    "ExecuteTime": {
     "end_time": "2024-11-08T09:40:13.251759Z",
     "start_time": "2024-11-08T09:40:13.243910Z"
    }
   },
   "cell_type": "code",
   "source": [
    "with open(\"./data/train_data.txt\" , \"w\", encoding='gbk', errors='ignore') as train_file:\n",
    "    train_file.write(\"\\n\".join(xyj_data))"
   ],
   "id": "e8c04716fe19ef6f",
   "outputs": [],
   "execution_count": 5
  },
  {
   "metadata": {
    "ExecuteTime": {
     "end_time": "2024-11-08T09:40:51.900155Z",
     "start_time": "2024-11-08T09:40:51.156672Z"
    }
   },
   "cell_type": "code",
   "source": [
    "spm.SentencePieceTrainer.Train(input=r'E:\\\\ASC\\\\assignment02\\\\transformer\\\\data\\\\train_data.txt'\n",
    "                               ,model_prefix=r'E:\\\\ASC\\\\assignment02\\\\transformer\\\\chinese_sp'\n",
    "                               ,vocab_size=5000\n",
    "                                ,character_coverage=0.995\n",
    "                               ,model_type='bpe' ,max_sentencepiece_length=4)"
   ],
   "id": "1c90ebce64b2219e",
   "outputs": [],
   "execution_count": 7
  },
  {
   "metadata": {
    "ExecuteTime": {
     "end_time": "2024-11-08T09:40:53.539154Z",
     "start_time": "2024-11-08T09:40:53.516830Z"
    }
   },
   "cell_type": "code",
   "source": [
    "model_file = r\"E:\\\\ASC\\\\assignment02\\\\transformer\\\\chinese_sp.model\"\n",
    "s = spm.SentencePieceProcessor()\n",
    "s.Load(model_file)\n",
    "for n in range(50):\n",
    "    print(s.EncodeAsPieces(xyj_data[n]))"
   ],
   "id": "2a933706b3008761",
   "outputs": [
    {
     "name": "stdout",
     "output_type": "stream",
     "text": [
      "['▁', '(明)吴承恩著']\n",
      "['▁', '第一回']\n",
      "['▁', '灵根育孕源流出心性修持大道生']\n",
      "['▁', '诗曰:']\n",
      "['▁', '混沌未分天地乱', ',', '茫茫渺渺无人见。']\n",
      "['▁', '自从盘古破鸿蒙', ',', '开辟从兹清浊辨。']\n",
      "['▁', '覆载群生仰至仁', ',', '发明万物皆成善。']\n",
      "['▁', '欲知造化会元功', ',', '须看西游释厄传。']\n",
      "['▁', '盖闻天地之数', ',', '有十二万九千六百岁为一元。将一元分为']\n",
      "['▁', '十二会', ',', '乃子、丑、寅、卯、辰、巳、午、未、申、酉、戌、']\n",
      "['▁', '亥之十二支也。每会该一万八百岁。且就一日而论:子时得阳']\n",
      "['▁', '气', ',', '而丑则鸡鸣', ';', '寅不通光', ',', '而卯则日出', ';', '辰时食后', ',', '而巳则']\n",
      "['▁', '挨排', ';', '日午天中', ',', '而未则西蹉', ';', '申时晡而日落酉', ',', '戌黄昏而人']\n",
      "['▁', '定亥。譬于大数', ',', '若到戌会之终', ',', '则天地昏鏤而万物否矣。']\n",
      "['▁', '再去五千四百岁', ',', '交亥会之初', ',', '则当黑暗', ',', '而两间人物俱']\n",
      "['▁', '无矣', ',', '故曰混沌。又五千四百岁', ',', '亥会将终', ',', '贞下起元', ',', '近子']\n",
      "['▁', '之会', ',', '而复逐渐开明。邵康节曰:“冬至子之半', ',', '天心无改移。']\n",
      "['▁', '一阳初动处', ',', '万物未生时。”到此天始有根。']\n",
      "['▁', '再五千四百岁', ',', '正当子会', ',', '轻清上腾', ',', '有日有月有星有辰。']\n",
      "['▁', '日月星辰', ',', '谓之四象。故曰天开于子。又经五千四百岁', ',', '子会']\n",
      "[]\n",
      "['▁', '将终', ',', '近丑之会', ',', '而逐渐坚实。《易》曰:“大哉乾元!至哉']\n",
      "['▁', '坤元!万物资生', ',', '乃顺承天。”至此', ',', '地始凝结。']\n",
      "['▁', '再五千四百岁', ',', '正当丑会', ',', '重浊下凝', ',', '有水有火有山有石']\n",
      "['▁', '有土。水火山石土', ',', '谓之五形。故曰地辟于丑。又经五千四百']\n",
      "['▁', '岁', ',', '丑会终而寅会之初', ',', '发生万物。历曰:“天气下降', ',', '地气']\n",
      "['▁', '上升', ';', '天地交合', ',', '群物皆生。”至此', ',', '天清地爽', ',', '阴阳交合。']\n",
      "['▁', '再五千四百岁', ',', '正当寅会', ',', '生人生兽生禽', ',', '正谓天地人', ',']\n",
      "['▁', '三才定位。故曰人生于寅。']\n",
      "['▁', '感盘古开辟', ',', '三皇', '治', '世', ',', '五帝定伦', ',', '世界之间', ',', '遂分为四']\n",
      "['▁', '大部洲:曰东胜神洲', ',', '曰西牛贺洲', ',', '曰南赡部洲', ',', '曰北俱芦洲。']\n",
      "['▁', '这部书单表东胜神洲。海外有一国土', ',', '名曰傲来国。国近大海', ',']\n",
      "['▁', '海中有一座名山', ',', '唤为花果山。此山乃十洲之祖脉', ',', '三岛之来']\n",
      "['▁', '龙', ',', '自开清浊而立', ',', '鸿蒙判后而成。真个好山!有词赋为证', ',']\n",
      "['▁', '赋曰:']\n",
      "['▁', '势镇汪洋', ',', '威宁瑶海。势镇汪洋', ',', '潮涌银山鱼入']\n",
      "['▁', '穴', ';', '威宁瑶海', ',', '波翻雪浪蜃离渊。水火方隅高积土', ',']\n",
      "['▁', '东海之处耸崇巅。丹崖怪石', ',', '削壁奇峰。丹崖上', ',', '彩']\n",
      "['▁', '凤双鸣', ';', '削壁前', ',', '麒麟独卧。峰头时听锦鸡鸣', ',', '石窟']\n",
      "['▁', '每观龙出入。林中有寿鹿仙狐', ',', '树上有灵禽玄鹤。瑶']\n",
      "['▁', '草奇花不谢', ',', '青松翠柏长春。仙桃常结果', ',', '修竹每留']\n",
      "['▁', '云。一条涧壑藤萝密', ',', '四面原堤草色新。正是百川会']\n",
      "['▁', '处擎天柱', ',', '万劫无移大地根。']\n",
      "['▁', '那座山正当顶上', ',', '有一块仙石。其石有三丈六尺五寸高', ',']\n",
      "['▁', '有二丈四尺围圆。三丈六尺五寸高', ',', '按周天三百六十五度', ';', '二']\n",
      "['▁', '丈四尺围圆', ',', '按政历二十四气。上有九窍八孔', ',', '按九宫八卦。']\n",
      "[]\n",
      "['▁', '四面更无树木遮阴', ',', '左右倒有芝兰相衬。盖自开辟以来', ',', '每受']\n",
      "['▁', '天真地秀', ',', '日精月华', ',', '感之既久', ',', '遂有灵通之意。内育仙胞。']\n",
      "['▁', '一日迸裂', ',', '产一石卵', ',', '似圆球样大。因见风', ',', '化作一个石猴。']\n"
     ]
    }
   ],
   "execution_count": 8
  },
  {
   "metadata": {},
   "cell_type": "code",
   "source": "",
   "id": "3dac4a3deae94229",
   "outputs": [],
   "execution_count": null
  },
  {
   "metadata": {
    "ExecuteTime": {
     "end_time": "2024-11-08T09:40:14.304612Z",
     "start_time": "2024-11-08T09:40:14.304612Z"
    }
   },
   "cell_type": "code",
   "source": "",
   "id": "e670e3450d5c4588",
   "outputs": [],
   "execution_count": null
  },
  {
   "metadata": {
    "ExecuteTime": {
     "end_time": "2024-11-08T09:40:14.305609Z",
     "start_time": "2024-11-08T09:40:14.305609Z"
    }
   },
   "cell_type": "code",
   "source": [
    "for i in range(3):\n",
    "    seg_list1 = jieba.cut(xyj_data[i],use_paddle=False)\n",
    "    print(\"默认模式（精确模式）：\" , \"/\".join(seg_list1))\n",
    "\n",
    "for i in range(3):\n",
    "    seg_list2 = jieba.cut(xyj_data[i], cut_all=True)\n",
    "    print(\"全模式：\" , \"/\".join(seg_list2))"
   ],
   "id": "8797a6aa28639a61",
   "outputs": [],
   "execution_count": null
  },
  {
   "metadata": {
    "ExecuteTime": {
     "end_time": "2024-11-08T09:40:14.306606Z",
     "start_time": "2024-11-08T09:40:14.306606Z"
    }
   },
   "cell_type": "code",
   "source": [
    "# 词性标注\n",
    "for i in range(5):\n",
    "    words = pseg.cut(xyj_data[i])\n",
    "    print()\n",
    "    for word, flag in words:\n",
    "        print(\"%s %s\" % (word, flag))"
   ],
   "id": "544a61d88f03986f",
   "outputs": [],
   "execution_count": null
  },
  {
   "metadata": {},
   "cell_type": "code",
   "source": "    ",
   "id": "9035b344906ee443",
   "outputs": [],
   "execution_count": null
  }
 ],
 "metadata": {
  "kernelspec": {
   "display_name": "Python 3",
   "language": "python",
   "name": "python3"
  },
  "language_info": {
   "codemirror_mode": {
    "name": "ipython",
    "version": 2
   },
   "file_extension": ".py",
   "mimetype": "text/x-python",
   "name": "python",
   "nbconvert_exporter": "python",
   "pygments_lexer": "ipython2",
   "version": "2.7.6"
  }
 },
 "nbformat": 4,
 "nbformat_minor": 5
}
