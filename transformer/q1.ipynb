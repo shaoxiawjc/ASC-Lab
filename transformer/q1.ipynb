{
 "cells": [
  {
   "metadata": {},
   "cell_type": "markdown",
   "source": [
    "# BPE分词\n",
    "\n",
    "流程：\n",
    "- 初始化：把所有的单词拆分为单词字符表\n",
    "- 统计连续两个字符的个数\n",
    "- 选择频率最大的字符对，加入词汇表，同时合并两个字符对到原单词字符表\n",
    "- 循环2，3，直到到达最大的循环次数，或者原单词字符表的每一个单词都已经合并成一个整体\n",
    "\n",
    "实现：\n",
    "- 使用SentencePiece库\n",
    "- 调huggingface模型\n",
    "\n",
    "简单实现如下"
   ],
   "id": "fbf17122102e02ea"
  },
  {
   "metadata": {
    "ExecuteTime": {
     "end_time": "2024-11-08T02:33:17.838695Z",
     "start_time": "2024-11-08T02:33:17.836178Z"
    }
   },
   "cell_type": "code",
   "source": [
    "import os\n",
    "import chardet\n",
    "import numpy as np\n",
    "from collections import defaultdict, Counter"
   ],
   "id": "be42d6b069378f78",
   "outputs": [],
   "execution_count": 107
  },
  {
   "metadata": {
    "ExecuteTime": {
     "end_time": "2024-11-08T02:33:17.853425Z",
     "start_time": "2024-11-08T02:33:17.851653Z"
    }
   },
   "cell_type": "code",
   "source": "",
   "id": "5a870d61d4ed980c",
   "outputs": [],
   "execution_count": 107
  },
  {
   "metadata": {
    "ExecuteTime": {
     "end_time": "2024-11-08T02:33:17.873408Z",
     "start_time": "2024-11-08T02:33:17.867380Z"
    }
   },
   "cell_type": "code",
   "source": [
    "def get_vocab(corpus):\n",
    "    rst_vocab = Counter()\n",
    "    vocab = Counter()\n",
    "    for word in corpus:\n",
    "        word = \" \".join(list(word)) + \"</w>\"\n",
    "        vocab[word] += 1\n",
    "        for char in word.split():\n",
    "            rst_vocab[char] += 1\n",
    "    return rst_vocab, vocab\n",
    "get_vocab(['thanks', 'thank', 'error', 'china', 'chinese', 'thanksgiving', 'thanksgiving', 'thankyou'])"
   ],
   "id": "2ed21a9fe70a59d0",
   "outputs": [
    {
     "data": {
      "text/plain": [
       "(Counter({'n': 9,\n",
       "          'h': 7,\n",
       "          'i': 6,\n",
       "          't': 5,\n",
       "          'a': 5,\n",
       "          'k': 4,\n",
       "          's': 3,\n",
       "          'e': 2,\n",
       "          'r': 2,\n",
       "          'o': 2,\n",
       "          'c': 2,\n",
       "          'g': 2,\n",
       "          'v': 2,\n",
       "          'g</w>': 2,\n",
       "          's</w>': 1,\n",
       "          'k</w>': 1,\n",
       "          'r</w>': 1,\n",
       "          'a</w>': 1,\n",
       "          'e</w>': 1,\n",
       "          'y': 1,\n",
       "          'u</w>': 1}),\n",
       " Counter({'t h a n k s g i v i n g</w>': 2,\n",
       "          't h a n k s</w>': 1,\n",
       "          't h a n k</w>': 1,\n",
       "          'e r r o r</w>': 1,\n",
       "          'c h i n a</w>': 1,\n",
       "          'c h i n e s e</w>': 1,\n",
       "          't h a n k y o u</w>': 1}))"
      ]
     },
     "execution_count": 108,
     "metadata": {},
     "output_type": "execute_result"
    }
   ],
   "execution_count": 108
  },
  {
   "metadata": {
    "ExecuteTime": {
     "end_time": "2024-11-08T02:33:17.878688Z",
     "start_time": "2024-11-08T02:33:17.874406Z"
    }
   },
   "cell_type": "code",
   "source": [
    "# 寻找字符对\n",
    "def get_pairs(vocab):\n",
    "    pairs = defaultdict(int)\n",
    "    for word, freq in vocab.items():\n",
    "        symbols = word.split()\n",
    "        for i in range(len(symbols) - 1):\n",
    "            pairs[(symbols[i], symbols[i + 1])] += freq\n",
    "    return pairs\n",
    "\n",
    "get_pairs(get_vocab(['thanks', 'thank', 'error', 'china', 'chinese', 'thanksgiving', 'thanksgiving', 'thankyou'])[1])"
   ],
   "id": "3283eb96b5073fb3",
   "outputs": [
    {
     "data": {
      "text/plain": [
       "defaultdict(int,\n",
       "            {('t', 'h'): 5,\n",
       "             ('h', 'a'): 5,\n",
       "             ('a', 'n'): 5,\n",
       "             ('n', 'k'): 4,\n",
       "             ('k', 's</w>'): 1,\n",
       "             ('n', 'k</w>'): 1,\n",
       "             ('e', 'r'): 1,\n",
       "             ('r', 'r'): 1,\n",
       "             ('r', 'o'): 1,\n",
       "             ('o', 'r</w>'): 1,\n",
       "             ('c', 'h'): 2,\n",
       "             ('h', 'i'): 2,\n",
       "             ('i', 'n'): 4,\n",
       "             ('n', 'a</w>'): 1,\n",
       "             ('n', 'e'): 1,\n",
       "             ('e', 's'): 1,\n",
       "             ('s', 'e</w>'): 1,\n",
       "             ('k', 's'): 2,\n",
       "             ('s', 'g'): 2,\n",
       "             ('g', 'i'): 2,\n",
       "             ('i', 'v'): 2,\n",
       "             ('v', 'i'): 2,\n",
       "             ('n', 'g</w>'): 2,\n",
       "             ('k', 'y'): 1,\n",
       "             ('y', 'o'): 1,\n",
       "             ('o', 'u</w>'): 1})"
      ]
     },
     "execution_count": 109,
     "metadata": {},
     "output_type": "execute_result"
    }
   ],
   "execution_count": 109
  },
  {
   "metadata": {
    "ExecuteTime": {
     "end_time": "2024-11-08T02:33:17.882923Z",
     "start_time": "2024-11-08T02:33:17.878688Z"
    }
   },
   "cell_type": "code",
   "source": [
    "def merge_vocab(pairs, rst_vocab, vocab):\n",
    "    # best是一个元组\n",
    "    best = max(pairs, key=pairs.get)\n",
    "    best_freq = pairs[best]\n",
    "    \n",
    "    # 原来的词组里的单词频率减少\n",
    "    rst_vocab[best[0]] -= best_freq\n",
    "    rst_vocab[best[1]] -= best_freq\n",
    "    \n",
    "    # 变成比如 \"t h\"\n",
    "    word_blank = \" \".join(best)\n",
    "    # \"th\"\n",
    "    word_no_blank = \"\".join(best)\n",
    "    # 替换原来的vocab\n",
    "    new_vocab = defaultdict(int)\n",
    "    rst_vocab[word_no_blank] += best_freq\n",
    "    for word in vocab:\n",
    "        new_word = word.replace(word_blank, word_no_blank)\n",
    "        new_vocab[new_word] = vocab[word]\n",
    "    \n",
    "    return rst_vocab, new_vocab"
   ],
   "id": "20d33651664a53c9",
   "outputs": [],
   "execution_count": 110
  },
  {
   "metadata": {
    "ExecuteTime": {
     "end_time": "2024-11-08T02:33:17.887023Z",
     "start_time": "2024-11-08T02:33:17.883922Z"
    }
   },
   "cell_type": "code",
   "source": [
    "def bpe(corpus, num_merge):\n",
    "    rst_vocab, vocab = get_vocab(corpus)\n",
    "    print(f\"initial rst_vocab: {rst_vocab}\")\n",
    "    for i in range(num_merge):\n",
    "        pairs = get_pairs(vocab)\n",
    "        if len(pairs) < 2:\n",
    "            break\n",
    "        rst_vocab, vocab = merge_vocab(pairs, rst_vocab, vocab)\n",
    "        print(f\"epoch: {i+1}, rst_vocab: {rst_vocab}\\n pairs: {pairs}\\n\")\n",
    "    return rst_vocab, vocab"
   ],
   "id": "eb86de320e3f7cdf",
   "outputs": [],
   "execution_count": 111
  },
  {
   "metadata": {
    "ExecuteTime": {
     "end_time": "2024-11-08T02:33:17.891005Z",
     "start_time": "2024-11-08T02:33:17.887023Z"
    }
   },
   "cell_type": "code",
   "source": [
    "corpus  = ['older', 'older', 'old', 'fine', 'fine', 'finest', 'finest', 'finest', 'finest', 'finest', 'lower', 'lowest', 'lower', 'mind',\n",
    "           'cat', 'cats', 'dogs', 'dogs', 'dogs', 'dog']\n",
    "num_merges = 100"
   ],
   "id": "8be76b35db5da48a",
   "outputs": [],
   "execution_count": 112
  },
  {
   "metadata": {},
   "cell_type": "markdown",
   "source": "",
   "id": "5eed7301b12c2105"
  },
  {
   "metadata": {
    "ExecuteTime": {
     "end_time": "2024-11-08T02:33:17.894964Z",
     "start_time": "2024-11-08T02:33:17.892004Z"
    }
   },
   "cell_type": "code",
   "source": [
    "rst_vocab, vocab = bpe(corpus, num_merges)\n",
    "print(rst_vocab)"
   ],
   "id": "890e95835c5b06a2",
   "outputs": [
    {
     "name": "stdout",
     "output_type": "stream",
     "text": [
      "initial rst_vocab: Counter({'o': 10, 'e': 10, 'i': 8, 'n': 8, 'f': 7, 't</w>': 7, 'l': 6, 'd': 6, 's': 6, 'r</w>': 4, 's</w>': 4, 'w': 3, 'g': 3, 'd</w>': 2, 'e</w>': 2, 'c': 2, 'a': 2, 'm': 1, 't': 1, 'g</w>': 1})\n",
      "epoch: 1, rst_vocab: Counter({'o': 10, 'e': 10, 'in': 8, 'f': 7, 't</w>': 7, 'l': 6, 'd': 6, 's': 6, 'r</w>': 4, 's</w>': 4, 'w': 3, 'g': 3, 'd</w>': 2, 'e</w>': 2, 'c': 2, 'a': 2, 'm': 1, 't': 1, 'g</w>': 1, 'i': 0, 'n': 0})\n",
      " pairs: defaultdict(<class 'int'>, {('o', 'l'): 3, ('l', 'd'): 2, ('d', 'e'): 2, ('e', 'r</w>'): 4, ('l', 'd</w>'): 1, ('f', 'i'): 7, ('i', 'n'): 8, ('n', 'e</w>'): 2, ('n', 'e'): 5, ('e', 's'): 6, ('s', 't</w>'): 6, ('l', 'o'): 3, ('o', 'w'): 3, ('w', 'e'): 3, ('m', 'i'): 1, ('n', 'd</w>'): 1, ('c', 'a'): 2, ('a', 't</w>'): 1, ('a', 't'): 1, ('t', 's</w>'): 1, ('d', 'o'): 4, ('o', 'g'): 3, ('g', 's</w>'): 3, ('o', 'g</w>'): 1})\n",
      "\n",
      "epoch: 2, rst_vocab: Counter({'o': 10, 'e': 10, 't</w>': 7, 'fin': 7, 'l': 6, 'd': 6, 's': 6, 'r</w>': 4, 's</w>': 4, 'w': 3, 'g': 3, 'd</w>': 2, 'e</w>': 2, 'c': 2, 'a': 2, 'm': 1, 't': 1, 'g</w>': 1, 'in': 1, 'f': 0, 'i': 0, 'n': 0})\n",
      " pairs: defaultdict(<class 'int'>, {('o', 'l'): 3, ('l', 'd'): 2, ('d', 'e'): 2, ('e', 'r</w>'): 4, ('l', 'd</w>'): 1, ('f', 'in'): 7, ('in', 'e</w>'): 2, ('in', 'e'): 5, ('e', 's'): 6, ('s', 't</w>'): 6, ('l', 'o'): 3, ('o', 'w'): 3, ('w', 'e'): 3, ('m', 'in'): 1, ('in', 'd</w>'): 1, ('c', 'a'): 2, ('a', 't</w>'): 1, ('a', 't'): 1, ('t', 's</w>'): 1, ('d', 'o'): 4, ('o', 'g'): 3, ('g', 's</w>'): 3, ('o', 'g</w>'): 1})\n",
      "\n",
      "epoch: 3, rst_vocab: Counter({'o': 10, 't</w>': 7, 'fin': 7, 'l': 6, 'd': 6, 'es': 6, 'e': 4, 'r</w>': 4, 's</w>': 4, 'w': 3, 'g': 3, 'd</w>': 2, 'e</w>': 2, 'c': 2, 'a': 2, 'm': 1, 't': 1, 'g</w>': 1, 'in': 1, 'f': 0, 'i': 0, 'n': 0, 's': 0})\n",
      " pairs: defaultdict(<class 'int'>, {('o', 'l'): 3, ('l', 'd'): 2, ('d', 'e'): 2, ('e', 'r</w>'): 4, ('l', 'd</w>'): 1, ('fin', 'e</w>'): 2, ('fin', 'e'): 5, ('e', 's'): 6, ('s', 't</w>'): 6, ('l', 'o'): 3, ('o', 'w'): 3, ('w', 'e'): 3, ('m', 'in'): 1, ('in', 'd</w>'): 1, ('c', 'a'): 2, ('a', 't</w>'): 1, ('a', 't'): 1, ('t', 's</w>'): 1, ('d', 'o'): 4, ('o', 'g'): 3, ('g', 's</w>'): 3, ('o', 'g</w>'): 1})\n",
      "\n",
      "epoch: 4, rst_vocab: Counter({'o': 10, 'fin': 7, 'l': 6, 'd': 6, 'est</w>': 6, 'e': 4, 'r</w>': 4, 's</w>': 4, 'w': 3, 'g': 3, 'd</w>': 2, 'e</w>': 2, 'c': 2, 'a': 2, 't</w>': 1, 'm': 1, 't': 1, 'g</w>': 1, 'in': 1, 'f': 0, 'i': 0, 'n': 0, 's': 0, 'es': 0})\n",
      " pairs: defaultdict(<class 'int'>, {('o', 'l'): 3, ('l', 'd'): 2, ('d', 'e'): 2, ('e', 'r</w>'): 4, ('l', 'd</w>'): 1, ('fin', 'e</w>'): 2, ('fin', 'es'): 5, ('es', 't</w>'): 6, ('l', 'o'): 3, ('o', 'w'): 3, ('w', 'e'): 2, ('w', 'es'): 1, ('m', 'in'): 1, ('in', 'd</w>'): 1, ('c', 'a'): 2, ('a', 't</w>'): 1, ('a', 't'): 1, ('t', 's</w>'): 1, ('d', 'o'): 4, ('o', 'g'): 3, ('g', 's</w>'): 3, ('o', 'g</w>'): 1})\n",
      "\n",
      "epoch: 5, rst_vocab: Counter({'o': 10, 'l': 6, 'd': 6, 'finest</w>': 5, 'e': 4, 'r</w>': 4, 's</w>': 4, 'w': 3, 'g': 3, 'd</w>': 2, 'e</w>': 2, 'c': 2, 'a': 2, 'fin': 2, 't</w>': 1, 'm': 1, 't': 1, 'g</w>': 1, 'in': 1, 'est</w>': 1, 'f': 0, 'i': 0, 'n': 0, 's': 0, 'es': 0})\n",
      " pairs: defaultdict(<class 'int'>, {('o', 'l'): 3, ('l', 'd'): 2, ('d', 'e'): 2, ('e', 'r</w>'): 4, ('l', 'd</w>'): 1, ('fin', 'e</w>'): 2, ('fin', 'est</w>'): 5, ('l', 'o'): 3, ('o', 'w'): 3, ('w', 'e'): 2, ('w', 'est</w>'): 1, ('m', 'in'): 1, ('in', 'd</w>'): 1, ('c', 'a'): 2, ('a', 't</w>'): 1, ('a', 't'): 1, ('t', 's</w>'): 1, ('d', 'o'): 4, ('o', 'g'): 3, ('g', 's</w>'): 3, ('o', 'g</w>'): 1})\n",
      "\n",
      "epoch: 6, rst_vocab: Counter({'o': 10, 'l': 6, 'd': 6, 'finest</w>': 5, 's</w>': 4, 'er</w>': 4, 'w': 3, 'g': 3, 'd</w>': 2, 'e</w>': 2, 'c': 2, 'a': 2, 'fin': 2, 't</w>': 1, 'm': 1, 't': 1, 'g</w>': 1, 'in': 1, 'est</w>': 1, 'e': 0, 'r</w>': 0, 'f': 0, 'i': 0, 'n': 0, 's': 0, 'es': 0})\n",
      " pairs: defaultdict(<class 'int'>, {('o', 'l'): 3, ('l', 'd'): 2, ('d', 'e'): 2, ('e', 'r</w>'): 4, ('l', 'd</w>'): 1, ('fin', 'e</w>'): 2, ('l', 'o'): 3, ('o', 'w'): 3, ('w', 'e'): 2, ('w', 'est</w>'): 1, ('m', 'in'): 1, ('in', 'd</w>'): 1, ('c', 'a'): 2, ('a', 't</w>'): 1, ('a', 't'): 1, ('t', 's</w>'): 1, ('d', 'o'): 4, ('o', 'g'): 3, ('g', 's</w>'): 3, ('o', 'g</w>'): 1})\n",
      "\n",
      "epoch: 7, rst_vocab: Counter({'o': 6, 'l': 6, 'finest</w>': 5, 's</w>': 4, 'er</w>': 4, 'do': 4, 'w': 3, 'g': 3, 'd': 2, 'd</w>': 2, 'e</w>': 2, 'c': 2, 'a': 2, 'fin': 2, 't</w>': 1, 'm': 1, 't': 1, 'g</w>': 1, 'in': 1, 'est</w>': 1, 'e': 0, 'r</w>': 0, 'f': 0, 'i': 0, 'n': 0, 's': 0, 'es': 0})\n",
      " pairs: defaultdict(<class 'int'>, {('o', 'l'): 3, ('l', 'd'): 2, ('d', 'er</w>'): 2, ('l', 'd</w>'): 1, ('fin', 'e</w>'): 2, ('l', 'o'): 3, ('o', 'w'): 3, ('w', 'er</w>'): 2, ('w', 'est</w>'): 1, ('m', 'in'): 1, ('in', 'd</w>'): 1, ('c', 'a'): 2, ('a', 't</w>'): 1, ('a', 't'): 1, ('t', 's</w>'): 1, ('d', 'o'): 4, ('o', 'g'): 3, ('g', 's</w>'): 3, ('o', 'g</w>'): 1})\n",
      "\n",
      "epoch: 8, rst_vocab: Counter({'finest</w>': 5, 's</w>': 4, 'er</w>': 4, 'do': 4, 'o': 3, 'l': 3, 'w': 3, 'g': 3, 'ol': 3, 'd': 2, 'd</w>': 2, 'e</w>': 2, 'c': 2, 'a': 2, 'fin': 2, 't</w>': 1, 'm': 1, 't': 1, 'g</w>': 1, 'in': 1, 'est</w>': 1, 'e': 0, 'r</w>': 0, 'f': 0, 'i': 0, 'n': 0, 's': 0, 'es': 0})\n",
      " pairs: defaultdict(<class 'int'>, {('o', 'l'): 3, ('l', 'd'): 2, ('d', 'er</w>'): 2, ('l', 'd</w>'): 1, ('fin', 'e</w>'): 2, ('l', 'o'): 3, ('o', 'w'): 3, ('w', 'er</w>'): 2, ('w', 'est</w>'): 1, ('m', 'in'): 1, ('in', 'd</w>'): 1, ('c', 'a'): 2, ('a', 't</w>'): 1, ('a', 't'): 1, ('t', 's</w>'): 1, ('do', 'g'): 3, ('g', 's</w>'): 3, ('do', 'g</w>'): 1})\n",
      "\n",
      "epoch: 9, rst_vocab: Counter({'finest</w>': 5, 's</w>': 4, 'er</w>': 4, 'do': 4, 'w': 3, 'g': 3, 'ol': 3, 'lo': 3, 'd': 2, 'd</w>': 2, 'e</w>': 2, 'c': 2, 'a': 2, 'fin': 2, 't</w>': 1, 'm': 1, 't': 1, 'g</w>': 1, 'in': 1, 'est</w>': 1, 'o': 0, 'l': 0, 'e': 0, 'r</w>': 0, 'f': 0, 'i': 0, 'n': 0, 's': 0, 'es': 0})\n",
      " pairs: defaultdict(<class 'int'>, {('ol', 'd'): 2, ('d', 'er</w>'): 2, ('ol', 'd</w>'): 1, ('fin', 'e</w>'): 2, ('l', 'o'): 3, ('o', 'w'): 3, ('w', 'er</w>'): 2, ('w', 'est</w>'): 1, ('m', 'in'): 1, ('in', 'd</w>'): 1, ('c', 'a'): 2, ('a', 't</w>'): 1, ('a', 't'): 1, ('t', 's</w>'): 1, ('do', 'g'): 3, ('g', 's</w>'): 3, ('do', 'g</w>'): 1})\n",
      "\n",
      "epoch: 10, rst_vocab: Counter({'finest</w>': 5, 's</w>': 4, 'er</w>': 4, 'do': 4, 'g': 3, 'ol': 3, 'low': 3, 'd': 2, 'd</w>': 2, 'e</w>': 2, 'c': 2, 'a': 2, 'fin': 2, 't</w>': 1, 'm': 1, 't': 1, 'g</w>': 1, 'in': 1, 'est</w>': 1, 'o': 0, 'l': 0, 'e': 0, 'r</w>': 0, 'f': 0, 'i': 0, 'n': 0, 's': 0, 'w': 0, 'es': 0, 'lo': 0})\n",
      " pairs: defaultdict(<class 'int'>, {('ol', 'd'): 2, ('d', 'er</w>'): 2, ('ol', 'd</w>'): 1, ('fin', 'e</w>'): 2, ('lo', 'w'): 3, ('w', 'er</w>'): 2, ('w', 'est</w>'): 1, ('m', 'in'): 1, ('in', 'd</w>'): 1, ('c', 'a'): 2, ('a', 't</w>'): 1, ('a', 't'): 1, ('t', 's</w>'): 1, ('do', 'g'): 3, ('g', 's</w>'): 3, ('do', 'g</w>'): 1})\n",
      "\n",
      "epoch: 11, rst_vocab: Counter({'finest</w>': 5, 's</w>': 4, 'er</w>': 4, 'ol': 3, 'low': 3, 'dog': 3, 'd': 2, 'd</w>': 2, 'e</w>': 2, 'c': 2, 'a': 2, 'fin': 2, 't</w>': 1, 'm': 1, 't': 1, 'g</w>': 1, 'in': 1, 'est</w>': 1, 'do': 1, 'o': 0, 'l': 0, 'e': 0, 'r</w>': 0, 'f': 0, 'i': 0, 'n': 0, 's': 0, 'w': 0, 'g': 0, 'es': 0, 'lo': 0})\n",
      " pairs: defaultdict(<class 'int'>, {('ol', 'd'): 2, ('d', 'er</w>'): 2, ('ol', 'd</w>'): 1, ('fin', 'e</w>'): 2, ('low', 'er</w>'): 2, ('low', 'est</w>'): 1, ('m', 'in'): 1, ('in', 'd</w>'): 1, ('c', 'a'): 2, ('a', 't</w>'): 1, ('a', 't'): 1, ('t', 's</w>'): 1, ('do', 'g'): 3, ('g', 's</w>'): 3, ('do', 'g</w>'): 1})\n",
      "\n",
      "epoch: 12, rst_vocab: Counter({'finest</w>': 5, 'er</w>': 4, 'ol': 3, 'low': 3, 'dogs</w>': 3, 'd': 2, 'd</w>': 2, 'e</w>': 2, 'c': 2, 'a': 2, 'fin': 2, 't</w>': 1, 'm': 1, 't': 1, 's</w>': 1, 'g</w>': 1, 'in': 1, 'est</w>': 1, 'do': 1, 'o': 0, 'l': 0, 'e': 0, 'r</w>': 0, 'f': 0, 'i': 0, 'n': 0, 's': 0, 'w': 0, 'g': 0, 'es': 0, 'lo': 0, 'dog': 0})\n",
      " pairs: defaultdict(<class 'int'>, {('ol', 'd'): 2, ('d', 'er</w>'): 2, ('ol', 'd</w>'): 1, ('fin', 'e</w>'): 2, ('low', 'er</w>'): 2, ('low', 'est</w>'): 1, ('m', 'in'): 1, ('in', 'd</w>'): 1, ('c', 'a'): 2, ('a', 't</w>'): 1, ('a', 't'): 1, ('t', 's</w>'): 1, ('dog', 's</w>'): 3})\n",
      "\n",
      "epoch: 13, rst_vocab: Counter({'finest</w>': 5, 'er</w>': 4, 'low': 3, 'dogs</w>': 3, 'd</w>': 2, 'e</w>': 2, 'c': 2, 'a': 2, 'fin': 2, 'old': 2, 't</w>': 1, 'm': 1, 't': 1, 's</w>': 1, 'g</w>': 1, 'in': 1, 'est</w>': 1, 'do': 1, 'ol': 1, 'o': 0, 'l': 0, 'd': 0, 'e': 0, 'r</w>': 0, 'f': 0, 'i': 0, 'n': 0, 's': 0, 'w': 0, 'g': 0, 'es': 0, 'lo': 0, 'dog': 0})\n",
      " pairs: defaultdict(<class 'int'>, {('ol', 'd'): 2, ('d', 'er</w>'): 2, ('ol', 'd</w>'): 1, ('fin', 'e</w>'): 2, ('low', 'er</w>'): 2, ('low', 'est</w>'): 1, ('m', 'in'): 1, ('in', 'd</w>'): 1, ('c', 'a'): 2, ('a', 't</w>'): 1, ('a', 't'): 1, ('t', 's</w>'): 1})\n",
      "\n",
      "epoch: 14, rst_vocab: Counter({'finest</w>': 5, 'low': 3, 'dogs</w>': 3, 'd</w>': 2, 'e</w>': 2, 'c': 2, 'a': 2, 'fin': 2, 'er</w>': 2, 'older</w>': 2, 't</w>': 1, 'm': 1, 't': 1, 's</w>': 1, 'g</w>': 1, 'in': 1, 'est</w>': 1, 'do': 1, 'ol': 1, 'o': 0, 'l': 0, 'd': 0, 'e': 0, 'r</w>': 0, 'f': 0, 'i': 0, 'n': 0, 's': 0, 'w': 0, 'g': 0, 'es': 0, 'lo': 0, 'dog': 0, 'old': 0})\n",
      " pairs: defaultdict(<class 'int'>, {('old', 'er</w>'): 2, ('fin', 'e</w>'): 2, ('low', 'er</w>'): 2, ('low', 'est</w>'): 1, ('m', 'in'): 1, ('in', 'd</w>'): 1, ('c', 'a'): 2, ('a', 't</w>'): 1, ('a', 't'): 1, ('t', 's</w>'): 1})\n",
      "\n",
      "epoch: 15, rst_vocab: Counter({'finest</w>': 5, 'low': 3, 'dogs</w>': 3, 'd</w>': 2, 'c': 2, 'a': 2, 'er</w>': 2, 'older</w>': 2, 'fine</w>': 2, 't</w>': 1, 'm': 1, 't': 1, 's</w>': 1, 'g</w>': 1, 'in': 1, 'est</w>': 1, 'do': 1, 'ol': 1, 'o': 0, 'l': 0, 'd': 0, 'e': 0, 'r</w>': 0, 'f': 0, 'i': 0, 'n': 0, 'e</w>': 0, 's': 0, 'w': 0, 'g': 0, 'fin': 0, 'es': 0, 'lo': 0, 'dog': 0, 'old': 0})\n",
      " pairs: defaultdict(<class 'int'>, {('fin', 'e</w>'): 2, ('low', 'er</w>'): 2, ('low', 'est</w>'): 1, ('m', 'in'): 1, ('in', 'd</w>'): 1, ('c', 'a'): 2, ('a', 't</w>'): 1, ('a', 't'): 1, ('t', 's</w>'): 1})\n",
      "\n",
      "epoch: 16, rst_vocab: Counter({'finest</w>': 5, 'dogs</w>': 3, 'd</w>': 2, 'c': 2, 'a': 2, 'older</w>': 2, 'fine</w>': 2, 'lower</w>': 2, 't</w>': 1, 'm': 1, 't': 1, 's</w>': 1, 'g</w>': 1, 'in': 1, 'est</w>': 1, 'do': 1, 'ol': 1, 'low': 1, 'o': 0, 'l': 0, 'd': 0, 'e': 0, 'r</w>': 0, 'f': 0, 'i': 0, 'n': 0, 'e</w>': 0, 's': 0, 'w': 0, 'g': 0, 'fin': 0, 'es': 0, 'er</w>': 0, 'lo': 0, 'dog': 0, 'old': 0})\n",
      " pairs: defaultdict(<class 'int'>, {('low', 'er</w>'): 2, ('low', 'est</w>'): 1, ('m', 'in'): 1, ('in', 'd</w>'): 1, ('c', 'a'): 2, ('a', 't</w>'): 1, ('a', 't'): 1, ('t', 's</w>'): 1})\n",
      "\n",
      "epoch: 17, rst_vocab: Counter({'finest</w>': 5, 'dogs</w>': 3, 'd</w>': 2, 'older</w>': 2, 'fine</w>': 2, 'lower</w>': 2, 'ca': 2, 't</w>': 1, 'm': 1, 't': 1, 's</w>': 1, 'g</w>': 1, 'in': 1, 'est</w>': 1, 'do': 1, 'ol': 1, 'low': 1, 'o': 0, 'l': 0, 'd': 0, 'e': 0, 'r</w>': 0, 'f': 0, 'i': 0, 'n': 0, 'e</w>': 0, 's': 0, 'w': 0, 'c': 0, 'a': 0, 'g': 0, 'fin': 0, 'es': 0, 'er</w>': 0, 'lo': 0, 'dog': 0, 'old': 0})\n",
      " pairs: defaultdict(<class 'int'>, {('low', 'est</w>'): 1, ('m', 'in'): 1, ('in', 'd</w>'): 1, ('c', 'a'): 2, ('a', 't</w>'): 1, ('a', 't'): 1, ('t', 's</w>'): 1})\n",
      "\n",
      "epoch: 18, rst_vocab: Counter({'finest</w>': 5, 'dogs</w>': 3, 'd</w>': 2, 'older</w>': 2, 'fine</w>': 2, 'lower</w>': 2, 'ca': 2, 't</w>': 1, 'm': 1, 't': 1, 's</w>': 1, 'g</w>': 1, 'in': 1, 'do': 1, 'ol': 1, 'lowest</w>': 1, 'o': 0, 'l': 0, 'd': 0, 'e': 0, 'r</w>': 0, 'f': 0, 'i': 0, 'n': 0, 'e</w>': 0, 's': 0, 'w': 0, 'c': 0, 'a': 0, 'g': 0, 'fin': 0, 'es': 0, 'est</w>': 0, 'er</w>': 0, 'lo': 0, 'low': 0, 'dog': 0, 'old': 0})\n",
      " pairs: defaultdict(<class 'int'>, {('low', 'est</w>'): 1, ('m', 'in'): 1, ('in', 'd</w>'): 1, ('ca', 't</w>'): 1, ('ca', 't'): 1, ('t', 's</w>'): 1})\n",
      "\n",
      "epoch: 19, rst_vocab: Counter({'finest</w>': 5, 'dogs</w>': 3, 'd</w>': 2, 'older</w>': 2, 'fine</w>': 2, 'lower</w>': 2, 'ca': 2, 't</w>': 1, 't': 1, 's</w>': 1, 'g</w>': 1, 'do': 1, 'ol': 1, 'lowest</w>': 1, 'min': 1, 'o': 0, 'l': 0, 'd': 0, 'e': 0, 'r</w>': 0, 'f': 0, 'i': 0, 'n': 0, 'e</w>': 0, 's': 0, 'w': 0, 'm': 0, 'c': 0, 'a': 0, 'g': 0, 'in': 0, 'fin': 0, 'es': 0, 'est</w>': 0, 'er</w>': 0, 'lo': 0, 'low': 0, 'dog': 0, 'old': 0})\n",
      " pairs: defaultdict(<class 'int'>, {('m', 'in'): 1, ('in', 'd</w>'): 1, ('ca', 't</w>'): 1, ('ca', 't'): 1, ('t', 's</w>'): 1})\n",
      "\n",
      "epoch: 20, rst_vocab: Counter({'finest</w>': 5, 'dogs</w>': 3, 'older</w>': 2, 'fine</w>': 2, 'lower</w>': 2, 'ca': 2, 'd</w>': 1, 't</w>': 1, 't': 1, 's</w>': 1, 'g</w>': 1, 'do': 1, 'ol': 1, 'lowest</w>': 1, 'mind</w>': 1, 'o': 0, 'l': 0, 'd': 0, 'e': 0, 'r</w>': 0, 'f': 0, 'i': 0, 'n': 0, 'e</w>': 0, 's': 0, 'w': 0, 'm': 0, 'c': 0, 'a': 0, 'g': 0, 'in': 0, 'fin': 0, 'es': 0, 'est</w>': 0, 'er</w>': 0, 'lo': 0, 'low': 0, 'dog': 0, 'old': 0, 'min': 0})\n",
      " pairs: defaultdict(<class 'int'>, {('min', 'd</w>'): 1, ('ca', 't</w>'): 1, ('ca', 't'): 1, ('t', 's</w>'): 1})\n",
      "\n",
      "epoch: 21, rst_vocab: Counter({'finest</w>': 5, 'dogs</w>': 3, 'older</w>': 2, 'fine</w>': 2, 'lower</w>': 2, 'd</w>': 1, 't': 1, 's</w>': 1, 'g</w>': 1, 'do': 1, 'ol': 1, 'ca': 1, 'lowest</w>': 1, 'mind</w>': 1, 'cat</w>': 1, 'o': 0, 'l': 0, 'd': 0, 'e': 0, 'r</w>': 0, 'f': 0, 'i': 0, 'n': 0, 'e</w>': 0, 's': 0, 't</w>': 0, 'w': 0, 'm': 0, 'c': 0, 'a': 0, 'g': 0, 'in': 0, 'fin': 0, 'es': 0, 'est</w>': 0, 'er</w>': 0, 'lo': 0, 'low': 0, 'dog': 0, 'old': 0, 'min': 0})\n",
      " pairs: defaultdict(<class 'int'>, {('ca', 't</w>'): 1, ('ca', 't'): 1, ('t', 's</w>'): 1})\n",
      "\n",
      "epoch: 22, rst_vocab: Counter({'finest</w>': 5, 'dogs</w>': 3, 'older</w>': 2, 'fine</w>': 2, 'lower</w>': 2, 'd</w>': 1, 's</w>': 1, 'g</w>': 1, 'do': 1, 'ol': 1, 'lowest</w>': 1, 'mind</w>': 1, 'cat</w>': 1, 'cat': 1, 'o': 0, 'l': 0, 'd': 0, 'e': 0, 'r</w>': 0, 'f': 0, 'i': 0, 'n': 0, 'e</w>': 0, 's': 0, 't</w>': 0, 'w': 0, 'm': 0, 'c': 0, 'a': 0, 't': 0, 'g': 0, 'in': 0, 'fin': 0, 'es': 0, 'est</w>': 0, 'er</w>': 0, 'lo': 0, 'low': 0, 'dog': 0, 'old': 0, 'ca': 0, 'min': 0})\n",
      " pairs: defaultdict(<class 'int'>, {('ca', 't'): 1, ('t', 's</w>'): 1})\n",
      "\n",
      "Counter({'finest</w>': 5, 'dogs</w>': 3, 'older</w>': 2, 'fine</w>': 2, 'lower</w>': 2, 'd</w>': 1, 's</w>': 1, 'g</w>': 1, 'do': 1, 'ol': 1, 'lowest</w>': 1, 'mind</w>': 1, 'cat</w>': 1, 'cat': 1, 'o': 0, 'l': 0, 'd': 0, 'e': 0, 'r</w>': 0, 'f': 0, 'i': 0, 'n': 0, 'e</w>': 0, 's': 0, 't</w>': 0, 'w': 0, 'm': 0, 'c': 0, 'a': 0, 't': 0, 'g': 0, 'in': 0, 'fin': 0, 'es': 0, 'est</w>': 0, 'er</w>': 0, 'lo': 0, 'low': 0, 'dog': 0, 'old': 0, 'ca': 0, 'min': 0})\n"
     ]
    }
   ],
   "execution_count": 113
  },
  {
   "metadata": {
    "ExecuteTime": {
     "end_time": "2024-11-08T02:33:17.897520Z",
     "start_time": "2024-11-08T02:33:17.895963Z"
    }
   },
   "cell_type": "code",
   "source": "",
   "id": "c50f822a718a7de",
   "outputs": [],
   "execution_count": 113
  },
  {
   "metadata": {},
   "cell_type": "markdown",
   "source": "",
   "id": "b6f55f4fb44d3c83"
  },
  {
   "metadata": {},
   "cell_type": "markdown",
   "source": [
    "# WordPiece\n",
    "\n",
    "BPE在合并的时候，是选取出现频率最高的对进行和并，而WordPiece不是\n",
    "\n",
    "> 但是好像频率高的，似然概率也高，从公式可以看出\n",
    "\n",
    "$$\n",
    "log P(结合后的词) = \\sum_{i=1}^{n} logP(字词i)\n",
    "$$\n",
    "\n",
    "所以WordPiece其实就是在选取字符对的时候不一样\n",
    "\n",
    "流程：\n",
    "- 划分corpus为char级别的vocab\n",
    "- 利用LM计算句子的似然概率值\n",
    "- 合并后重新计算似然概率值\n",
    "- 重复2，3，直到增长概率\n"
   ],
   "id": "ea8cc9af3881186f"
  },
  {
   "metadata": {
    "ExecuteTime": {
     "end_time": "2024-11-08T02:33:17.899604Z",
     "start_time": "2024-11-08T02:33:17.897520Z"
    }
   },
   "cell_type": "code",
   "source": "",
   "id": "626113983bd25c86",
   "outputs": [],
   "execution_count": 113
  },
  {
   "metadata": {},
   "cell_type": "markdown",
   "source": [
    "# Unigram\n",
    "\n",
    "基于概率模型的分词器\n",
    "\n",
    "- 一开始会给定一个单词的不同子分词，每一个子分词对应一个概率\n",
    "- 接下来将子字词组合成单词，并计算其概率\n",
    "- 选择不同组合中概率最高的组合，并使用EM算法调整其他字词的概率\n",
    "- 重复上述过程，同时概率很低的字词会被移除词表"
   ],
   "id": "e1ee888df31ee7e5"
  }
 ],
 "metadata": {
  "kernelspec": {
   "display_name": "Python 3",
   "language": "python",
   "name": "python3"
  },
  "language_info": {
   "codemirror_mode": {
    "name": "ipython",
    "version": 2
   },
   "file_extension": ".py",
   "mimetype": "text/x-python",
   "name": "python",
   "nbconvert_exporter": "python",
   "pygments_lexer": "ipython2",
   "version": "2.7.6"
  }
 },
 "nbformat": 4,
 "nbformat_minor": 5
}
