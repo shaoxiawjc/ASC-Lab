{
 "cells": [
  {
   "cell_type": "code",
   "id": "initial_id",
   "metadata": {
    "collapsed": true,
    "ExecuteTime": {
     "end_time": "2024-11-09T08:10:50.997415Z",
     "start_time": "2024-11-09T08:10:49.672761Z"
    }
   },
   "source": [
    "import torch\n",
    "import torch.nn.functional as F\n",
    "import torch.nn as nn"
   ],
   "outputs": [],
   "execution_count": 2
  },
  {
   "metadata": {
    "ExecuteTime": {
     "end_time": "2024-11-09T08:10:51.000708Z",
     "start_time": "2024-11-09T08:10:50.997415Z"
    }
   },
   "cell_type": "code",
   "source": [
    "class PositionWiseFeedForward(nn.Module):\n",
    "    def __init__(self, input_dim, hidden_dim, **kwargs):\n",
    "        super(PositionWiseFeedForward, self).__init__(**kwargs)\n",
    "        self.fc1 = nn.Linear(input_dim, hidden_dim)\n",
    "        self.relu = nn.ReLU()\n",
    "        self.fc2 = nn.Linear(hidden_dim, hidden_dim)\n",
    "        \n",
    "    def forward(self, x):\n",
    "        return self.fc2(self.relu(self.fc1(x)))"
   ],
   "id": "ad0fcedcde9d4502",
   "outputs": [],
   "execution_count": 3
  },
  {
   "metadata": {},
   "cell_type": "markdown",
   "source": [
    "# 层规范化\n",
    "什么是层规范化？\n",
    "\n",
    "在批量里的一个样本的所有特征进行归一化\n",
    "\n",
    "为什么？\n",
    "\n",
    "因为输入的批量里的不同样本的合法长度不同\n"
   ],
   "id": "2ba5b0e6cee13a9"
  },
  {
   "metadata": {
    "ExecuteTime": {
     "end_time": "2024-11-09T08:10:51.049568Z",
     "start_time": "2024-11-09T08:10:51.000708Z"
    }
   },
   "cell_type": "code",
   "source": [
    "ln = nn.LayerNorm(2)\n",
    "bn = nn.BatchNorm1d(2)\n",
    "# 2*2\n",
    "X = torch.tensor([[1, 2], [2, 3]], dtype=torch.float32)\n",
    "# 批量规范化，对所有样本规范\n",
    "print(f\"批量规范化{bn(X)}\")\n",
    "# 层规范化，对于一个样本的所有维度进行规范\n",
    "print(f\"层规范化{ln(X)}\")"
   ],
   "id": "99c4735e551490c0",
   "outputs": [
    {
     "name": "stdout",
     "output_type": "stream",
     "text": [
      "批量规范化tensor([[-1.0000, -1.0000],\n",
      "        [ 1.0000,  1.0000]], grad_fn=<NativeBatchNormBackward0>)\n",
      "层规范化tensor([[-1.0000,  1.0000],\n",
      "        [-1.0000,  1.0000]], grad_fn=<NativeLayerNormBackward0>)\n"
     ]
    }
   ],
   "execution_count": 4
  },
  {
   "metadata": {
    "ExecuteTime": {
     "end_time": "2024-11-09T08:10:51.052254Z",
     "start_time": "2024-11-09T08:10:51.050575Z"
    }
   },
   "cell_type": "code",
   "source": "",
   "id": "756c5352f6356902",
   "outputs": [],
   "execution_count": 4
  },
  {
   "metadata": {
    "ExecuteTime": {
     "end_time": "2024-11-09T08:10:51.054536Z",
     "start_time": "2024-11-09T08:10:51.052254Z"
    }
   },
   "cell_type": "code",
   "source": "",
   "id": "57116d7845605680",
   "outputs": [],
   "execution_count": 4
  }
 ],
 "metadata": {
  "kernelspec": {
   "display_name": "Python 3",
   "language": "python",
   "name": "python3"
  },
  "language_info": {
   "codemirror_mode": {
    "name": "ipython",
    "version": 2
   },
   "file_extension": ".py",
   "mimetype": "text/x-python",
   "name": "python",
   "nbconvert_exporter": "python",
   "pygments_lexer": "ipython2",
   "version": "2.7.6"
  }
 },
 "nbformat": 4,
 "nbformat_minor": 5
}
