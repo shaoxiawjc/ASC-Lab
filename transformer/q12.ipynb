{
 "cells": [
  {
   "cell_type": "code",
   "id": "initial_id",
   "metadata": {
    "collapsed": true,
    "ExecuteTime": {
     "end_time": "2024-11-16T12:54:10.554740Z",
     "start_time": "2024-11-16T12:54:03.383659Z"
    }
   },
   "source": [
    "import matplotlib.pyplot as plt\n",
    "import torch\n",
    "from torch import nn, optim\n",
    "from d2l import torch as d2l\n",
    "import math\n",
    "from typing import Optional"
   ],
   "outputs": [],
   "execution_count": 3
  },
  {
   "metadata": {
    "ExecuteTime": {
     "end_time": "2024-11-16T12:54:10.566996Z",
     "start_time": "2024-11-16T12:54:10.555735Z"
    }
   },
   "cell_type": "code",
   "source": [
    "# start: copy from [https://zh-v2.d2l.ai/]\n",
    "class PositionalEncoding(nn.Module):\n",
    "    def __init__(self, input_dim, max_len=1000):\n",
    "        super(PositionalEncoding, self).__init__()\n",
    "        # 输入的维度为\n",
    "        # batch_size * num_steps * num_hiddens\n",
    "        # 则要对每一个时间步进行位置编码\n",
    "        # 由于是固定位置编码，生成一个固定的位置矩阵就行了\n",
    "        self.input_dim = input_dim\n",
    "        self.max_len = max_len\n",
    "        self.position_matrix = torch.zeros(1, max_len, input_dim)\n",
    "        X = torch.arange(max_len, dtype=torch.float32).reshape(\n",
    "            -1, 1   \n",
    "        ) / torch.pow(10000, ( torch.arange(0, input_dim,dtype=torch.float32) / input_dim ))\n",
    "        self.position_matrix[:, :, 0::2] = torch.sin(X[:, 0::2])\n",
    "        self.position_matrix[:, :, 1::2] = torch.cos(X[:, 1::2])\n",
    "        \n",
    "        \n",
    "    def forward(self,X):\n",
    "        X = X + self.position_matrix[:, :X.shape[1], :].to(device=X.device, dtype=X.dtype)\n",
    "        return X\n",
    "\n",
    "# def masked_softmax(x, valid_lens, eps=1e-8):\n",
    "#     # X为评分矩阵\n",
    "#     # shape X: batch * num_steps * num_steps\n",
    "#     if valid_lens is None:\n",
    "#         return nn.functional.softmax(x, dim=1)\n",
    "#     shape = x.shape\n",
    "#     if valid_lens.dim() == 2:\n",
    "#         valid_lens = valid_lens.reshape(-1)\n",
    "#     mask_bool = torch.arange(shape[1], device=x.device).unsqueeze(0) >= valid_lens.unsqueeze(1)\n",
    "#     mask_bool = mask_bool.unsqueeze(1).expand(-1, shape[1], -1)\n",
    "#     print(f'mask_bool shape: {mask_bool.shape}')\n",
    "#     x = x.masked_fill(mask_bool, eps)\n",
    "#     return nn.functional.softmax(x, dim=1)\n",
    "\n",
    "def masked_softmax(X, valid_lens):\n",
    "    if valid_lens is None:\n",
    "        return nn.functional.softmax(X, dim=-1)\n",
    "    else:\n",
    "        shape = X.shape\n",
    "        # print(f\"shape: {shape}\")\n",
    "        if valid_lens.dim() == 1:\n",
    "            valid_lens = torch.repeat_interleave(valid_lens, shape[1])\n",
    "        else:\n",
    "            valid_lens = valid_lens.reshape(-1)\n",
    "        # print(f\"valid_lens: {valid_lens}\")\n",
    "        # -1e6很小，使其非常小\n",
    "        X = d2l.sequence_mask(X.reshape(-1, shape[-1]), valid_lens,\n",
    "                              value=-1e6)\n",
    "        # print(f\"X.shape: {X.shape}\")\n",
    "        return nn.functional.softmax(X.reshape(shape), dim=-1)\n",
    "\n",
    "class DotAttention(nn.Module):\n",
    "    def __init__(self, **kwargs):\n",
    "        super(DotAttention, self).__init__(**kwargs)\n",
    "        \n",
    "    def forward(self, q, k, v, valid_lens=None):\n",
    "        d = q.shape[-1]\n",
    "        score_matrix = torch.bmm(q, k.transpose(1, 2)) / math.sqrt(d)\n",
    "        attention_weights = masked_softmax(score_matrix, valid_lens)\n",
    "\n",
    "        return torch.bmm(attention_weights, v)\n",
    "    \n",
    "    \n",
    "    \n",
    "def transpose_qkv(X, num_heads):\n",
    "    # X: batch * num_steps * num_hiddens\n",
    "    X = X.reshape(X.shape[0], X.shape[1], num_heads, -1)\n",
    "    # X: batch * num_steps * num_head * (num_hiddens / num_head)\n",
    "    X = X.permute(0, 2, 1, 3)\n",
    "    # X: batch * num_head * num_steps * (num_hiddens / num_head)\n",
    "    \n",
    "    # final: (batch*num_head) * num_steps * (num_hiddens / num_head)\n",
    "    return X.reshape(-1, X.shape[2], X.shape[3])\n",
    "\n",
    "\n",
    "def transpose_output(X, num_heads):\n",
    "    # X: (batch*num_head) * num_steps * (num_hiddens / num_head)\n",
    "    X = X.reshape(-1, num_heads, X.shape[1], X.shape[2])\n",
    "    X = X.permute(0, 2, 1, 3)\n",
    "    return X.reshape(X.shape[0], X.shape[1],-1)\n",
    "\n",
    "class SimpleMultiHeadAttention(nn.Module):\n",
    "    def __init__(self, q_size, k_size, v_size, num_hiddens, num_head,  **kwargs):\n",
    "        super(SimpleMultiHeadAttention, self).__init__(**kwargs)\n",
    "        self.num_heads = num_head\n",
    "        self.attention = DotAttention()\n",
    "        self.W_q = nn.Linear(q_size, num_hiddens)\n",
    "        self.W_k = nn.Linear(k_size, num_hiddens)\n",
    "        self.W_v = nn.Linear(v_size, num_hiddens)\n",
    "        self.W_out = nn.Linear(num_hiddens, num_hiddens)\n",
    "        \n",
    "        \n",
    "    def forward(self, query, key, value, valid_lens=None):\n",
    "        queries = transpose_qkv(self.W_q(query), self.num_heads)\n",
    "        keys = transpose_qkv(self.W_k(key), self.num_heads)\n",
    "        values = transpose_qkv(self.W_v(value), self.num_heads)\n",
    "        \n",
    "        if valid_lens is not None:\n",
    "            # 重复head次\n",
    "            valid_lens = torch.repeat_interleave(\n",
    "                valid_lens, repeats=self.num_heads, dim=0\n",
    "            )\n",
    "        # print(valid_lens)\n",
    "        \n",
    "        output = self.attention(queries, keys, values, valid_lens)\n",
    "        output = transpose_output(output, num_heads=self.num_heads)\n",
    "        return self.W_out(output)\n",
    "    \n",
    "\n",
    "class PositionWiseFeedForward(nn.Module):\n",
    "    def __init__(self, input_dim, hidden_dim, output_dim, **kwargs):\n",
    "        super(PositionWiseFeedForward, self).__init__(**kwargs)\n",
    "        self.fc1 = nn.Linear(input_dim, hidden_dim)\n",
    "        self.relu = nn.ReLU()\n",
    "        self.fc2 = nn.Linear(hidden_dim, output_dim)\n",
    "        \n",
    "    def forward(self, x):\n",
    "        return self.fc2(self.relu(self.fc1(x)))"
   ],
   "id": "286a707f7999bc7",
   "outputs": [],
   "execution_count": 4
  },
  {
   "metadata": {
    "ExecuteTime": {
     "end_time": "2024-11-16T12:54:10.573196Z",
     "start_time": "2024-11-16T12:54:10.567994Z"
    }
   },
   "cell_type": "code",
   "source": [
    "class AddNorm(nn.Module):\n",
    "    def __init__(self, normalize_shape, dropout, **kwargs):\n",
    "        super(AddNorm, self).__init__(**kwargs)\n",
    "        self.dropout = nn.Dropout(dropout)\n",
    "        # normalize_shape 意思是需要归一化的维度大小\n",
    "        self.ln = nn.LayerNorm(normalize_shape)\n",
    "        \n",
    "    def forward(self, X, Y):\n",
    "        # 把输出的Y进行dropout之后，再和X进行残差连接\n",
    "        return self.ln(self.dropout(Y) + X)\n",
    "    "
   ],
   "id": "40b93519c05574dd",
   "outputs": [],
   "execution_count": 5
  },
  {
   "metadata": {
    "ExecuteTime": {
     "end_time": "2024-11-16T12:54:10.577966Z",
     "start_time": "2024-11-16T12:54:10.574195Z"
    }
   },
   "cell_type": "code",
   "source": [
    "class TransformerBlock(nn.Module):\n",
    "    def __init__(self, layer_id: int, **kwargs):\n",
    "        super(TransformerBlock, self).__init__(**kwargs)\n",
    "        self.layer_id = layer_id\n",
    "    def forward(self,x: torch.Tensor,mask: Optional[torch.Tensor]):\n",
    "        return"
   ],
   "id": "85bb0d5a3facd2ce",
   "outputs": [],
   "execution_count": 6
  },
  {
   "metadata": {
    "ExecuteTime": {
     "end_time": "2024-11-16T12:54:10.581899Z",
     "start_time": "2024-11-16T12:54:10.578965Z"
    }
   },
   "cell_type": "code",
   "source": [
    "class TransformerEncoderBlock(TransformerBlock):\n",
    "    def __init__(self, layer_id: int, query_size, key_size, value_size , num_hiddens, norm_shape, \n",
    "                 ffn_num_input, ffn__num_hiddens, num_heads, dropout, **kwargs):\n",
    "        super(TransformerEncoderBlock, self).__init__(layer_id, **kwargs)\n",
    "        self.attention = SimpleMultiHeadAttention(query_size, key_size, value_size, num_hiddens, num_heads)\n",
    "        self.add_norm1 = AddNorm(norm_shape, dropout)\n",
    "        self.ffn = PositionWiseFeedForward(ffn_num_input, ffn__num_hiddens, num_hiddens)\n",
    "        self.add_norm2 = AddNorm(norm_shape, dropout)\n",
    "    \n",
    "    def forward(self, x: torch.Tensor, mask: Optional[torch.Tensor]):\n",
    "        Y = self.add_norm1(x, self.attention(x,x,x, mask))\n",
    "        return self.add_norm2(Y, self.ffn(Y))"
   ],
   "id": "1fa30c967fecb835",
   "outputs": [],
   "execution_count": 7
  },
  {
   "metadata": {
    "ExecuteTime": {
     "end_time": "2024-11-16T12:54:10.586661Z",
     "start_time": "2024-11-16T12:54:10.581899Z"
    }
   },
   "cell_type": "code",
   "source": [
    "class TransformerEncoder(nn.Module):\n",
    "    def __init__(self, vocab_size, query_size, key_size, value_size, num_hiddens, norm_shape, \n",
    "                 ffn_num_input, ffn_num_hiddens, num_heads,num_layers ,dropout,**kwargs):\n",
    "        super(TransformerEncoder, self).__init__(**kwargs)\n",
    "        self.num_hiddens = num_hiddens\n",
    "        self.embedding = nn.Embedding(vocab_size, num_hiddens)\n",
    "        self.position_embedding = PositionalEncoding(num_hiddens)\n",
    "        self.blks = nn.Sequential()\n",
    "        for i in range(num_layers):\n",
    "            self.blks.add_module(\"layer{}\".format(i), \n",
    "                                 TransformerEncoderBlock(i, query_size, key_size, value_size, num_hiddens, norm_shape\n",
    "                                                         , ffn_num_input, ffn_num_hiddens, num_heads, dropout))\n",
    "    \n",
    "    def forward(self, X, valid_lens):\n",
    "        X = self.position_embedding(self.embedding(X) + math.sqrt(self.num_hiddens))\n",
    "        for i, blk in enumerate(self.blks):\n",
    "            X = blk(X, valid_lens)\n",
    "        return X"
   ],
   "id": "afaf219be4bd520c",
   "outputs": [],
   "execution_count": 8
  },
  {
   "metadata": {
    "ExecuteTime": {
     "end_time": "2024-11-16T12:54:10.653630Z",
     "start_time": "2024-11-16T12:54:10.586661Z"
    }
   },
   "cell_type": "code",
   "source": [
    "encoder = TransformerEncoder(\n",
    "    200, 24, 24, 24, 24, [100, 24], 24, 48, 8, 2, 0.5\n",
    ")\n",
    "encoder.eval()\n",
    "encoder(torch.ones((2, 100), dtype=torch.long), valid_lens = torch.tensor([3, 2])).shape"
   ],
   "id": "cc33f95ada442ca6",
   "outputs": [
    {
     "data": {
      "text/plain": [
       "torch.Size([2, 100, 24])"
      ]
     },
     "execution_count": 9,
     "metadata": {},
     "output_type": "execute_result"
    }
   ],
   "execution_count": 9
  },
  {
   "metadata": {
    "ExecuteTime": {
     "end_time": "2024-11-16T12:54:10.668727Z",
     "start_time": "2024-11-16T12:54:10.653630Z"
    }
   },
   "cell_type": "code",
   "source": [
    "net = TransformerEncoder(8000, 24, 24, 24, 24, [24], 24, 48, 6, 5, 0.5)\n",
    "net.eval()\n",
    "test_X = torch.zeros((64, 10)).long()\n",
    "print(f\"rst shape is {net(test_X, None).shape}\")"
   ],
   "id": "94a3afe0105dba3d",
   "outputs": [
    {
     "name": "stdout",
     "output_type": "stream",
     "text": [
      "rst shape is torch.Size([64, 10, 24])\n"
     ]
    }
   ],
   "execution_count": 10
  },
  {
   "metadata": {
    "ExecuteTime": {
     "end_time": "2024-11-16T12:54:10.673674Z",
     "start_time": "2024-11-16T12:54:10.668727Z"
    }
   },
   "cell_type": "code",
   "source": [
    "class TransformerDecoderBlock(TransformerBlock):\n",
    "    def __init__(self, layer_id: int, query_size,key_size, value_size, num_hiddens, norm_shape,\n",
    "                 ffn_num_input, ffn_num_hiddens, num_heads, dropout,  **kwargs):\n",
    "        super(TransformerDecoderBlock, self).__init__(layer_id, **kwargs)\n",
    "        # 代表第i个块\n",
    "        self.attention1 = SimpleMultiHeadAttention(\n",
    "            query_size, key_size, value_size, num_hiddens, num_heads)\n",
    "        self.addnorm1 = AddNorm(norm_shape, dropout)\n",
    "        self.attention2 = SimpleMultiHeadAttention(\n",
    "            query_size, key_size, value_size, num_hiddens, num_heads)\n",
    "        self.addnorm2 = AddNorm(norm_shape, dropout)\n",
    "        self.ffn = PositionWiseFeedForward(ffn_num_input, ffn_num_hiddens, num_hiddens)\n",
    "        self.addnorm3 = AddNorm(norm_shape, dropout)\n",
    "        \n",
    "    def forward(self, X, state):\n",
    "        enc_outputs, enc_valid_lens = state[0], state[1]\n",
    "        if state[2][self.layer_id] is None:\n",
    "            key_values = X\n",
    "        else:\n",
    "            # state[2] 代表是否有上一个状态\n",
    "            key_values = torch.cat((state[2][self.layer_id], X), axis=1)\n",
    "        state[2][self.layer_id] = key_values\n",
    "        if self.training:\n",
    "            batch_size, num_steps, _ = X.shape\n",
    "            # 在训练过程计算softmax的时候，我们需要把后面还没预测的值给掩蔽调\n",
    "            dec_valid_lens = torch.arange(1, num_steps+1, device=X.device).repeat(batch_size, 1)\n",
    "        else:\n",
    "            dec_valid_lens = None\n",
    "        \n",
    "        X2 = self.attention1(X, key_values, key_values, dec_valid_lens)\n",
    "        Y = self.addnorm1(X, X2)\n",
    "        Y2 = self.attention2(Y, enc_outputs, enc_outputs, enc_valid_lens)\n",
    "        Z = self.addnorm2(Y, Y2)\n",
    "        return self.addnorm3(Z, self.ffn(Z)), state"
   ],
   "id": "1d5214db7fde73bb",
   "outputs": [],
   "execution_count": 11
  },
  {
   "metadata": {
    "ExecuteTime": {
     "end_time": "2024-11-16T12:54:10.678643Z",
     "start_time": "2024-11-16T12:54:10.674673Z"
    }
   },
   "cell_type": "code",
   "source": [
    "class TransformerDecoder(nn.Module):\n",
    "    def __init__(self, vocab_size, query_size, key_size, value_size, num_hiddens, norm_shape,\n",
    "                 ffn_num_input, ffn_num_hiddens, num_heads, num_layers, dropout, **kwargs):\n",
    "        super(TransformerDecoder, self).__init__(**kwargs)\n",
    "        self.num_hiddens = num_hiddens\n",
    "        self.num_layers = num_layers\n",
    "        self.embedding = nn.Embedding(vocab_size, num_hiddens)\n",
    "        self.position_embedding = PositionalEncoding(num_hiddens)\n",
    "        self.blks = nn.Sequential()\n",
    "        for i in range(num_layers):\n",
    "            self.blks.add_module(\"layer{}\".format(i), \n",
    "                                 TransformerDecoderBlock(i, query_size, key_size, value_size, num_hiddens, norm_shape,\n",
    "                                                         ffn_num_input, ffn_num_hiddens, num_heads, dropout))\n",
    "        self.dense = nn.Linear(num_hiddens, vocab_size)\n",
    "        \n",
    "    def init_state(self, enc_outputs, enc_valid_lens, *args):\n",
    "        return [enc_outputs, enc_valid_lens, [None] * self.num_layers]\n",
    "    \n",
    "    def forward(self, X, state):\n",
    "        X = self.position_embedding(self.embedding(X) + math.sqrt(self.num_hiddens))\n",
    "        for i, blk in enumerate(self.blks):\n",
    "            X, state = blk(X, state)\n",
    "        return self.dense(X), state"
   ],
   "id": "4d9dc18988a3623a",
   "outputs": [],
   "execution_count": 12
  },
  {
   "metadata": {
    "ExecuteTime": {
     "end_time": "2024-11-16T12:54:10.703543Z",
     "start_time": "2024-11-16T12:54:10.679642Z"
    }
   },
   "cell_type": "code",
   "source": [
    "decoder = TransformerDecoder(8000, 24, 24, 24, 24, [24], 24, 48, 6, 5, 0.5)\n",
    "decoder.eval()\n",
    "test_X = torch.zeros((64, 10)).long()\n",
    "test_state = decoder.init_state(torch.zeros((64, 10 ,24), dtype=torch.float32), None)\n",
    "print(f\"rst shape is {decoder(test_X, test_state)[0].shape}\")"
   ],
   "id": "8801f26360752a9a",
   "outputs": [
    {
     "name": "stdout",
     "output_type": "stream",
     "text": [
      "rst shape is torch.Size([64, 10, 8000])\n"
     ]
    }
   ],
   "execution_count": 13
  },
  {
   "metadata": {
    "ExecuteTime": {
     "end_time": "2024-11-16T12:54:10.706928Z",
     "start_time": "2024-11-16T12:54:10.703543Z"
    }
   },
   "cell_type": "code",
   "source": [
    "class EncoderDecoder(nn.Module):\n",
    "    \"\"\"The base class for the encoder-decoder architecture.\n",
    "\n",
    "    Defined in :numref:`sec_encoder-decoder`\"\"\"\n",
    "    def __init__(self, encoder, decoder, **kwargs):\n",
    "        super(EncoderDecoder, self).__init__(**kwargs)\n",
    "        self.encoder = encoder\n",
    "        self.decoder = decoder\n",
    "\n",
    "    def forward(self, enc_X, dec_X, *args):\n",
    "        enc_outputs = self.encoder(enc_X, *args)\n",
    "        dec_state = self.decoder.init_state(enc_outputs, *args)\n",
    "        return self.decoder(dec_X, dec_state)"
   ],
   "id": "c72185536fd5f71",
   "outputs": [],
   "execution_count": 14
  },
  {
   "metadata": {
    "ExecuteTime": {
     "end_time": "2024-11-16T12:55:40.612700Z",
     "start_time": "2024-11-16T12:55:40.604727Z"
    }
   },
   "cell_type": "code",
   "source": [
    "def seq_mask(x, valid_len, value=0):\n",
    "    max_len = x.size(1)\n",
    "    mask = torch.arange((max_len), dtype=torch.float32,\n",
    "                        device=x.device)[None, :] < valid_len[:, None]\n",
    "    x[~mask] = value\n",
    "    return x\n",
    "    \n",
    "\n",
    "\n",
    "class MaskedSoftmax(nn.CrossEntropyLoss):\n",
    "    def forward(self, pred, label, valid_len):\n",
    "        weights = torch.ones_like(label)\n",
    "        weights = seq_mask(weights, valid_len)\n",
    "        self.reduction = 'none'\n",
    "        unweighted_loss = super(MaskedSoftmax, self).forward(\n",
    "            pred.permute(0, 2, 1), label)\n",
    "        weighted_loss = (unweighted_loss * weights).mean(dim=1)\n",
    "        return weighted_loss\n",
    "\n",
    "\n",
    "def train_seq2seq(net, train_iter, lr, num_epochs, tgt_vocab, device):\n",
    "    def init_param(m):\n",
    "        if type(m) == nn.Linear:\n",
    "            nn.init.xavier_uniform_(m.weight)\n",
    "    net.apply(init_param)\n",
    "    net.to(device)\n",
    "    optimizer = optim.Adam(net.parameters(), lr=lr)\n",
    "    loss = MaskedSoftmax()\n",
    "    net.train()\n",
    "    loss_list = []\n",
    "    for epoch in range(num_epochs):\n",
    "        for batch in train_iter:\n",
    "            optimizer.zero_grad()\n",
    "            X, X_valid_len, Y, Y_valid_len = [x.to(device) for x in batch]\n",
    "            # Y: bs,seqLen,vocab_size\n",
    "            bos = torch.tensor([tgt_vocab['<bos>']]* Y.shape[0],\n",
    "                               device=device).reshape(-1,1)\n",
    "            dec_input = torch.cat([bos, Y[:, :-1]], dim=1)\n",
    "            Y_hat, _ = net(X, dec_input, X_valid_len)\n",
    "            l = loss(Y_hat, Y, Y_valid_len)\n",
    "            l.sum().backward()\n",
    "            d2l.grad_clipping(net, 1)\n",
    "            optimizer.step()\n",
    "            with torch.no_grad():\n",
    "                loss_list.append(l.sum().cpu().numpy())\n",
    "    return loss_list\n",
    "            "
   ],
   "id": "54b28bee014f9d52",
   "outputs": [],
   "execution_count": 20
  },
  {
   "metadata": {
    "ExecuteTime": {
     "end_time": "2024-11-16T12:56:18.776903Z",
     "start_time": "2024-11-16T12:55:49.052882Z"
    }
   },
   "cell_type": "code",
   "source": [
    "num_hiddens, num_layers, dropout, batch_size, num_steps = 32, 2, 0.1, 64, 10\n",
    "lr, num_epochs, device = 0.005, 200, d2l.try_gpu()\n",
    "ffn_num_input, ffn_num_hiddens, num_heads = 32, 64, 4\n",
    "key_size, query_size, value_size = 32, 32, 32\n",
    "norm_shape = [32]\n",
    "\n",
    "print(f\"num_hiddens is {num_hiddens}\\n\"\n",
    "      f\"num_layers is {num_layers}\\n\"\n",
    "      f\"ffn_num_input is {ffn_num_input}\\n\"\n",
    "      f\"ffn_num_hiddens is {ffn_num_hiddens}\\n\"\n",
    "      f\"num_heads is {num_heads}\\n\")\n",
    "\n",
    "\n",
    "train_iter, src_vocab, tgt_vocab = d2l.load_data_nmt(batch_size, num_steps)\n",
    "\n",
    "encoder = TransformerEncoder(\n",
    "    len(src_vocab), key_size, query_size, value_size, num_hiddens,\n",
    "    norm_shape, ffn_num_input, ffn_num_hiddens, num_heads,\n",
    "    num_layers, dropout)\n",
    "decoder = TransformerDecoder(\n",
    "    len(tgt_vocab), key_size, query_size, value_size, num_hiddens,\n",
    "    norm_shape, ffn_num_input, ffn_num_hiddens, num_heads,\n",
    "    num_layers, dropout)\n",
    "net = EncoderDecoder(encoder, decoder)\n",
    "loss_list = train_seq2seq(net, train_iter, lr, num_epochs, tgt_vocab, device)\n",
    "plt.plot(loss_list)"
   ],
   "id": "42883c11a877f439",
   "outputs": [
    {
     "name": "stdout",
     "output_type": "stream",
     "text": [
      "num_hiddens is 32\n",
      "num_layers is 2\n",
      "ffn_num_input is 32\n",
      "ffn_num_hiddens is 64\n",
      "num_heads is 4\n",
      "\n"
     ]
    },
    {
     "data": {
      "text/plain": [
       "[<matplotlib.lines.Line2D at 0x174e3fa7610>]"
      ]
     },
     "execution_count": 21,
     "metadata": {},
     "output_type": "execute_result"
    },
    {
     "data": {
      "text/plain": [
       "<Figure size 640x480 with 1 Axes>"
      ],
      "image/png": "[encoded data removed]"
     },
     "metadata": {},
     "output_type": "display_data"
    }
   ],
   "execution_count": 21
  },
  {
   "metadata": {
    "ExecuteTime": {
     "end_time": "2024-11-16T12:55:06.669774Z",
     "start_time": "2024-11-16T12:55:06.656059Z"
    }
   },
   "cell_type": "code",
   "source": "",
   "id": "e9661664e9b855d4",
   "outputs": [
    {
     "ename": "AttributeError",
     "evalue": "'list' object has no attribute 'cpu'",
     "output_type": "error",
     "traceback": [
      "\u001B[1;31m---------------------------------------------------------------------------\u001B[0m",
      "\u001B[1;31mAttributeError\u001B[0m                            Traceback (most recent call last)",
      "Cell \u001B[1;32mIn[19], line 1\u001B[0m\n\u001B[1;32m----> 1\u001B[0m plt\u001B[38;5;241m.\u001B[39mplot(\u001B[43mloss_list\u001B[49m\u001B[38;5;241;43m.\u001B[39;49m\u001B[43mcpu\u001B[49m())\n",
      "\u001B[1;31mAttributeError\u001B[0m: 'list' object has no attribute 'cpu'"
     ]
    }
   ],
   "execution_count": 19
  },
  {
   "metadata": {
    "ExecuteTime": {
     "end_time": "2024-11-16T12:56:36.573410Z",
     "start_time": "2024-11-16T12:56:36.493947Z"
    }
   },
   "cell_type": "code",
   "source": [
    "engs = ['go .', \"i lost .\", 'he\\'s calm .', 'i\\'m home .']\n",
    "fras = ['va !', 'j\\'ai perdu .', 'il est calme .', 'je suis chez moi .']\n",
    "for eng, fra in zip(engs, fras):\n",
    "    translation, dec_attention_weight_seq = d2l.predict_seq2seq(\n",
    "        net, eng, src_vocab, tgt_vocab, num_steps, device, False)\n",
    "    print(f'{eng} => {translation}, ',\n",
    "          f'bleu {d2l.bleu(translation, fra, k=2):.3f}')\n",
    "    \n",
    "# end: copy from [https://zh-v2.d2l.ai/]"
   ],
   "id": "455134cccd38098c",
   "outputs": [
    {
     "name": "stdout",
     "output_type": "stream",
     "text": [
      "go . => va !,  bleu 1.000\n",
      "i lost . => j'ai perdu .,  bleu 1.000\n",
      "he's calm . => il est mouillé .,  bleu 0.658\n",
      "i'm home . => je suis chez moi qui suis chez moi qui suis,  bleu 0.481\n"
     ]
    }
   ],
   "execution_count": 22
  },
  {
   "metadata": {},
   "cell_type": "code",
   "outputs": [],
   "execution_count": null,
   "source": "",
   "id": "a69d8244258eb48b"
  }
 ],
 "metadata": {
  "kernelspec": {
   "display_name": "Python 3",
   "language": "python",
   "name": "python3"
  },
  "language_info": {
   "codemirror_mode": {
    "name": "ipython",
    "version": 2
   },
   "file_extension": ".py",
   "mimetype": "text/x-python",
   "name": "python",
   "nbconvert_exporter": "python",
   "pygments_lexer": "ipython2",
   "version": "2.7.6"
  }
 },
 "nbformat": 4,
 "nbformat_minor": 5
}
